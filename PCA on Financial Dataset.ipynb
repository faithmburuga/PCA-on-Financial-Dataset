{
  "nbformat": 4,
  "nbformat_minor": 0,
  "metadata": {
    "colab": {
      "name": "Moringa_Data_Science_Core_W2_Independent_Project_2019_06_Faithelizabeth_Mburuga_Python_Notebook",
      "provenance": [],
      "collapsed_sections": [
        "gjQpGsTawmuN",
        "OXDczFSrcYHu",
        "Q7qtZoPTtbuY",
        "EwyS8Lhz_zzS",
        "6QZsiS0RASXC",
        "-J116yguYyXI",
        "SSeFH2pD2iGN",
        "13fRducP2a-O"
      ]
    },
    "kernelspec": {
      "name": "python3",
      "display_name": "Python 3"
    }
  },
  "cells": [
    {
      "cell_type": "markdown",
      "metadata": {
        "id": "k5jEnsw_whcl",
        "colab_type": "text"
      },
      "source": [
        "# Exploratory Data Analysis"
      ]
    },
    {
      "cell_type": "markdown",
      "metadata": {
        "id": "gjQpGsTawmuN",
        "colab_type": "text"
      },
      "source": [
        "## 1. Defining the Question"
      ]
    },
    {
      "cell_type": "markdown",
      "metadata": {
        "id": "56VK_ey7wwWE",
        "colab_type": "text"
      },
      "source": [
        "### a) Specifying the Data Analysis Question"
      ]
    },
    {
      "cell_type": "markdown",
      "metadata": {
        "id": "32Jn1pasyswt",
        "colab_type": "text"
      },
      "source": [
        "A survey was done across Kenya, Rwanda, Tanzania and Uganda and questions were asked to get an overview of their finanical behaviour. \n",
        "\n",
        "The research problem is to figure out, from the data gotten, how we can predict which individuals are most likely to have or use a bank account. The solution will help provide an indication of the state of financial inclusion in Kenya, Rwanda, Tanzania, and Uganda, while providing insights into some of the key demographic factors that might drive individuals’ financial outcomes."
      ]
    },
    {
      "cell_type": "markdown",
      "metadata": {
        "id": "ks4QcJGyw31t",
        "colab_type": "text"
      },
      "source": [
        "### b) Defining the Metric for Success"
      ]
    },
    {
      "cell_type": "markdown",
      "metadata": {
        "id": "Hi61XfJhzfdr",
        "colab_type": "text"
      },
      "source": [
        "This analysis will be considered successful upon predicting which factors from the given variables can lead to an increase in likelihood of an individual having or using a bank account."
      ]
    },
    {
      "cell_type": "markdown",
      "metadata": {
        "id": "Wp0i5spZw8jw",
        "colab_type": "text"
      },
      "source": [
        "### c) Understanding the context "
      ]
    },
    {
      "cell_type": "markdown",
      "metadata": {
        "id": "bnO38e6b4OWw",
        "colab_type": "text"
      },
      "source": [
        "Financial inclusion is still an obstacle to development in Africa. For instance only 13.9% of the adult population in Kenya, Uganda, Rwanda and Tanzania have access to or use a commerical bank account.\n",
        "\n",
        "Despite an increase in mobile money platforms, access to bank accounts helps businesses build their credit worthiness and improve access to other financial services. Furthermore, families are able to save and facilitate payments.\n",
        "\n",
        "The analysis question, once answered, will be important in shaping the decisions financial stakeholders in the 4 countries will make with regards to their (potential)clients."
      ]
    },
    {
      "cell_type": "markdown",
      "metadata": {
        "id": "wG--tFP_xAF4",
        "colab_type": "text"
      },
      "source": [
        "### d) Recording the Experimental Design"
      ]
    },
    {
      "cell_type": "markdown",
      "metadata": {
        "id": "Yjp8HRMz7bHN",
        "colab_type": "text"
      },
      "source": [
        "For this experimental design, I'll be investigating the relationship between variables using the Principal Component Analysis.\n",
        "\n",
        "PCA converts high dimensional data to low dimensional data by selecting the most important features. These features are selected on the basis of variance in output.\n",
        "\n",
        "The feature with the highest variance will be Prinicipal Component 1(PC1), the feature with the 2nd highest variance will be PC2, and so on. The PCs should have zero correlation with each other.\n",
        "\n"
      ]
    },
    {
      "cell_type": "markdown",
      "metadata": {
        "id": "UXnRlVu5xEmA",
        "colab_type": "text"
      },
      "source": [
        "### e) Data Relevance"
      ]
    },
    {
      "cell_type": "markdown",
      "metadata": {
        "id": "zx1REjCQBmaJ",
        "colab_type": "text"
      },
      "source": [
        "The data provided is applicable to the research question as it provides information that will be useful to us when doing the analysis."
      ]
    },
    {
      "cell_type": "markdown",
      "metadata": {
        "id": "uDxJCs8exZch",
        "colab_type": "text"
      },
      "source": [
        "## 2. Loading the Data"
      ]
    },
    {
      "cell_type": "code",
      "metadata": {
        "id": "8o_JD1TaEaUL",
        "colab_type": "code",
        "outputId": "ab60f2d1-be3b-4259-f045-fea6e7aee361",
        "colab": {
          "base_uri": "https://localhost:8080/",
          "height": 71
        }
      },
      "source": [
        "# Importing the libraries\n",
        "\n",
        "import pandas as pd\n",
        "import numpy as np\n",
        "import matplotlib.pyplot as plt\n",
        "import seaborn as sns"
      ],
      "execution_count": 0,
      "outputs": [
        {
          "output_type": "stream",
          "text": [
            "/usr/local/lib/python3.6/dist-packages/statsmodels/tools/_testing.py:19: FutureWarning: pandas.util.testing is deprecated. Use the functions in the public API at pandas.testing instead.\n",
            "  import pandas.util.testing as tm\n"
          ],
          "name": "stderr"
        }
      ]
    },
    {
      "cell_type": "code",
      "metadata": {
        "id": "-hgDuahhE4Kx",
        "colab_type": "code",
        "colab": {}
      },
      "source": [
        "# Load the datasets\n",
        "\n",
        "# The survey dataset\n",
        "finance = pd.read_csv(\"http://bit.ly/FinancialDataset\")\n"
      ],
      "execution_count": 0,
      "outputs": []
    },
    {
      "cell_type": "code",
      "metadata": {
        "id": "8E_tvTwHGbjm",
        "colab_type": "code",
        "colab": {}
      },
      "source": [
        "# The definitions of the variables\n",
        "\n",
        "definitions = pd.read_csv(\"http://bit.ly/VariableDefinitions\")\n"
      ],
      "execution_count": 0,
      "outputs": []
    },
    {
      "cell_type": "markdown",
      "metadata": {
        "id": "VCZS80qjxqQA",
        "colab_type": "text"
      },
      "source": [
        "## 3. Exploring the Data"
      ]
    },
    {
      "cell_type": "code",
      "metadata": {
        "id": "9SG01S-zHYMQ",
        "colab_type": "code",
        "outputId": "0f0b878c-e243-4ac7-8ec4-10793edeadb9",
        "colab": {
          "base_uri": "https://localhost:8080/",
          "height": 421
        }
      },
      "source": [
        "# View the definitions dataset\n",
        "definitions"
      ],
      "execution_count": 0,
      "outputs": [
        {
          "output_type": "execute_result",
          "data": {
            "text/html": [
              "<div>\n",
              "<style scoped>\n",
              "    .dataframe tbody tr th:only-of-type {\n",
              "        vertical-align: middle;\n",
              "    }\n",
              "\n",
              "    .dataframe tbody tr th {\n",
              "        vertical-align: top;\n",
              "    }\n",
              "\n",
              "    .dataframe thead th {\n",
              "        text-align: right;\n",
              "    }\n",
              "</style>\n",
              "<table border=\"1\" class=\"dataframe\">\n",
              "  <thead>\n",
              "    <tr style=\"text-align: right;\">\n",
              "      <th></th>\n",
              "      <th>Variable Definitions</th>\n",
              "      <th>Unnamed: 1</th>\n",
              "    </tr>\n",
              "  </thead>\n",
              "  <tbody>\n",
              "    <tr>\n",
              "      <th>0</th>\n",
              "      <td>country</td>\n",
              "      <td>Country interviewee is in.</td>\n",
              "    </tr>\n",
              "    <tr>\n",
              "      <th>1</th>\n",
              "      <td>year</td>\n",
              "      <td>Year survey was done in.</td>\n",
              "    </tr>\n",
              "    <tr>\n",
              "      <th>2</th>\n",
              "      <td>uniqueid</td>\n",
              "      <td>Unique identifier for each interviewee</td>\n",
              "    </tr>\n",
              "    <tr>\n",
              "      <th>3</th>\n",
              "      <td>location_type</td>\n",
              "      <td>Type of location: Rural, Urban</td>\n",
              "    </tr>\n",
              "    <tr>\n",
              "      <th>4</th>\n",
              "      <td>cellphone_access</td>\n",
              "      <td>If interviewee has access to a cellphone: Yes, No</td>\n",
              "    </tr>\n",
              "    <tr>\n",
              "      <th>5</th>\n",
              "      <td>household_size</td>\n",
              "      <td>Number of people living in one house</td>\n",
              "    </tr>\n",
              "    <tr>\n",
              "      <th>6</th>\n",
              "      <td>age_of_respondent</td>\n",
              "      <td>The age of the interviewee</td>\n",
              "    </tr>\n",
              "    <tr>\n",
              "      <th>7</th>\n",
              "      <td>gender_of_respondent</td>\n",
              "      <td>Gender of interviewee: Male, Female</td>\n",
              "    </tr>\n",
              "    <tr>\n",
              "      <th>8</th>\n",
              "      <td>relationship_with_head</td>\n",
              "      <td>The interviewee’s relationship with the head o...</td>\n",
              "    </tr>\n",
              "    <tr>\n",
              "      <th>9</th>\n",
              "      <td>marital_status</td>\n",
              "      <td>The martial status of the interviewee: Married...</td>\n",
              "    </tr>\n",
              "    <tr>\n",
              "      <th>10</th>\n",
              "      <td>education_level</td>\n",
              "      <td>Highest level of education: No formal educatio...</td>\n",
              "    </tr>\n",
              "    <tr>\n",
              "      <th>11</th>\n",
              "      <td>job_type</td>\n",
              "      <td>Type of job interviewee has: Farming and Fishi...</td>\n",
              "    </tr>\n",
              "  </tbody>\n",
              "</table>\n",
              "</div>"
            ],
            "text/plain": [
              "      Variable Definitions                                         Unnamed: 1\n",
              "0                  country                         Country interviewee is in.\n",
              "1                     year                           Year survey was done in.\n",
              "2                 uniqueid             Unique identifier for each interviewee\n",
              "3            location_type                     Type of location: Rural, Urban\n",
              "4         cellphone_access  If interviewee has access to a cellphone: Yes, No\n",
              "5           household_size               Number of people living in one house\n",
              "6        age_of_respondent                         The age of the interviewee\n",
              "7     gender_of_respondent                Gender of interviewee: Male, Female\n",
              "8   relationship_with_head  The interviewee’s relationship with the head o...\n",
              "9           marital_status  The martial status of the interviewee: Married...\n",
              "10         education_level  Highest level of education: No formal educatio...\n",
              "11                job_type  Type of job interviewee has: Farming and Fishi..."
            ]
          },
          "metadata": {
            "tags": []
          },
          "execution_count": 7
        }
      ]
    },
    {
      "cell_type": "code",
      "metadata": {
        "id": "DEDkvNLpHywT",
        "colab_type": "code",
        "outputId": "8d7b52a1-85cd-45b8-852c-b9178ee3bb45",
        "colab": {
          "base_uri": "https://localhost:8080/",
          "height": 377
        }
      },
      "source": [
        "# Preview the top of the finance dataset\n",
        "finance.head()"
      ],
      "execution_count": 0,
      "outputs": [
        {
          "output_type": "execute_result",
          "data": {
            "text/html": [
              "<div>\n",
              "<style scoped>\n",
              "    .dataframe tbody tr th:only-of-type {\n",
              "        vertical-align: middle;\n",
              "    }\n",
              "\n",
              "    .dataframe tbody tr th {\n",
              "        vertical-align: top;\n",
              "    }\n",
              "\n",
              "    .dataframe thead th {\n",
              "        text-align: right;\n",
              "    }\n",
              "</style>\n",
              "<table border=\"1\" class=\"dataframe\">\n",
              "  <thead>\n",
              "    <tr style=\"text-align: right;\">\n",
              "      <th></th>\n",
              "      <th>country</th>\n",
              "      <th>year</th>\n",
              "      <th>uniqueid</th>\n",
              "      <th>Has a Bank account</th>\n",
              "      <th>Type of Location</th>\n",
              "      <th>Cell Phone Access</th>\n",
              "      <th>household_size</th>\n",
              "      <th>Respondent Age</th>\n",
              "      <th>gender_of_respondent</th>\n",
              "      <th>The relathip with head</th>\n",
              "      <th>marital_status</th>\n",
              "      <th>Level of Educuation</th>\n",
              "      <th>Type of Job</th>\n",
              "    </tr>\n",
              "  </thead>\n",
              "  <tbody>\n",
              "    <tr>\n",
              "      <th>0</th>\n",
              "      <td>Kenya</td>\n",
              "      <td>2018</td>\n",
              "      <td>uniqueid_1</td>\n",
              "      <td>Yes</td>\n",
              "      <td>Rural</td>\n",
              "      <td>Yes</td>\n",
              "      <td>3.0</td>\n",
              "      <td>24.0</td>\n",
              "      <td>Female</td>\n",
              "      <td>Spouse</td>\n",
              "      <td>Married/Living together</td>\n",
              "      <td>Secondary education</td>\n",
              "      <td>Self employed</td>\n",
              "    </tr>\n",
              "    <tr>\n",
              "      <th>1</th>\n",
              "      <td>Kenya</td>\n",
              "      <td>2018</td>\n",
              "      <td>uniqueid_2</td>\n",
              "      <td>No</td>\n",
              "      <td>Rural</td>\n",
              "      <td>No</td>\n",
              "      <td>5.0</td>\n",
              "      <td>70.0</td>\n",
              "      <td>Female</td>\n",
              "      <td>Head of Household</td>\n",
              "      <td>Widowed</td>\n",
              "      <td>No formal education</td>\n",
              "      <td>Government Dependent</td>\n",
              "    </tr>\n",
              "    <tr>\n",
              "      <th>2</th>\n",
              "      <td>Kenya</td>\n",
              "      <td>2018</td>\n",
              "      <td>uniqueid_3</td>\n",
              "      <td>Yes</td>\n",
              "      <td>Urban</td>\n",
              "      <td>Yes</td>\n",
              "      <td>5.0</td>\n",
              "      <td>26.0</td>\n",
              "      <td>Male</td>\n",
              "      <td>Other relative</td>\n",
              "      <td>Single/Never Married</td>\n",
              "      <td>Vocational/Specialised training</td>\n",
              "      <td>Self employed</td>\n",
              "    </tr>\n",
              "    <tr>\n",
              "      <th>3</th>\n",
              "      <td>Kenya</td>\n",
              "      <td>2018</td>\n",
              "      <td>uniqueid_4</td>\n",
              "      <td>No</td>\n",
              "      <td>Rural</td>\n",
              "      <td>Yes</td>\n",
              "      <td>5.0</td>\n",
              "      <td>34.0</td>\n",
              "      <td>Female</td>\n",
              "      <td>Head of Household</td>\n",
              "      <td>Married/Living together</td>\n",
              "      <td>Primary education</td>\n",
              "      <td>Formally employed Private</td>\n",
              "    </tr>\n",
              "    <tr>\n",
              "      <th>4</th>\n",
              "      <td>Kenya</td>\n",
              "      <td>2018</td>\n",
              "      <td>uniqueid_5</td>\n",
              "      <td>No</td>\n",
              "      <td>Urban</td>\n",
              "      <td>No</td>\n",
              "      <td>8.0</td>\n",
              "      <td>26.0</td>\n",
              "      <td>Male</td>\n",
              "      <td>Child</td>\n",
              "      <td>Single/Never Married</td>\n",
              "      <td>Primary education</td>\n",
              "      <td>Informally employed</td>\n",
              "    </tr>\n",
              "  </tbody>\n",
              "</table>\n",
              "</div>"
            ],
            "text/plain": [
              "  country  year  ...              Level of Educuation                Type of Job\n",
              "0   Kenya  2018  ...              Secondary education              Self employed\n",
              "1   Kenya  2018  ...              No formal education       Government Dependent\n",
              "2   Kenya  2018  ...  Vocational/Specialised training              Self employed\n",
              "3   Kenya  2018  ...                Primary education  Formally employed Private\n",
              "4   Kenya  2018  ...                Primary education        Informally employed\n",
              "\n",
              "[5 rows x 13 columns]"
            ]
          },
          "metadata": {
            "tags": []
          },
          "execution_count": 8
        }
      ]
    },
    {
      "cell_type": "code",
      "metadata": {
        "id": "AlkOVLv1H6-Q",
        "colab_type": "code",
        "outputId": "e7ad96c6-2334-4d40-e42d-900d0db7a89d",
        "colab": {
          "base_uri": "https://localhost:8080/",
          "height": 340
        }
      },
      "source": [
        "# Preview the bottom of the finance dataset\n",
        "finance.tail()"
      ],
      "execution_count": 0,
      "outputs": [
        {
          "output_type": "execute_result",
          "data": {
            "text/html": [
              "<div>\n",
              "<style scoped>\n",
              "    .dataframe tbody tr th:only-of-type {\n",
              "        vertical-align: middle;\n",
              "    }\n",
              "\n",
              "    .dataframe tbody tr th {\n",
              "        vertical-align: top;\n",
              "    }\n",
              "\n",
              "    .dataframe thead th {\n",
              "        text-align: right;\n",
              "    }\n",
              "</style>\n",
              "<table border=\"1\" class=\"dataframe\">\n",
              "  <thead>\n",
              "    <tr style=\"text-align: right;\">\n",
              "      <th></th>\n",
              "      <th>country</th>\n",
              "      <th>year</th>\n",
              "      <th>uniqueid</th>\n",
              "      <th>Has a Bank account</th>\n",
              "      <th>Type of Location</th>\n",
              "      <th>Cell Phone Access</th>\n",
              "      <th>household_size</th>\n",
              "      <th>Respondent Age</th>\n",
              "      <th>gender_of_respondent</th>\n",
              "      <th>The relathip with head</th>\n",
              "      <th>marital_status</th>\n",
              "      <th>Level of Educuation</th>\n",
              "      <th>Type of Job</th>\n",
              "    </tr>\n",
              "  </thead>\n",
              "  <tbody>\n",
              "    <tr>\n",
              "      <th>23519</th>\n",
              "      <td>Uganda</td>\n",
              "      <td>2018</td>\n",
              "      <td>uniqueid_2113</td>\n",
              "      <td>No</td>\n",
              "      <td>Rural</td>\n",
              "      <td>Yes</td>\n",
              "      <td>4.0</td>\n",
              "      <td>48.0</td>\n",
              "      <td>Female</td>\n",
              "      <td>Head of Household</td>\n",
              "      <td>Divorced/Seperated</td>\n",
              "      <td>No formal education</td>\n",
              "      <td>Other Income</td>\n",
              "    </tr>\n",
              "    <tr>\n",
              "      <th>23520</th>\n",
              "      <td>Uganda</td>\n",
              "      <td>2018</td>\n",
              "      <td>uniqueid_2114</td>\n",
              "      <td>No</td>\n",
              "      <td>Rural</td>\n",
              "      <td>Yes</td>\n",
              "      <td>2.0</td>\n",
              "      <td>27.0</td>\n",
              "      <td>Female</td>\n",
              "      <td>Head of Household</td>\n",
              "      <td>Single/Never Married</td>\n",
              "      <td>Secondary education</td>\n",
              "      <td>Other Income</td>\n",
              "    </tr>\n",
              "    <tr>\n",
              "      <th>23521</th>\n",
              "      <td>Uganda</td>\n",
              "      <td>2018</td>\n",
              "      <td>uniqueid_2115</td>\n",
              "      <td>No</td>\n",
              "      <td>Rural</td>\n",
              "      <td>Yes</td>\n",
              "      <td>5.0</td>\n",
              "      <td>27.0</td>\n",
              "      <td>Female</td>\n",
              "      <td>Parent</td>\n",
              "      <td>Widowed</td>\n",
              "      <td>Primary education</td>\n",
              "      <td>Other Income</td>\n",
              "    </tr>\n",
              "    <tr>\n",
              "      <th>23522</th>\n",
              "      <td>Uganda</td>\n",
              "      <td>2018</td>\n",
              "      <td>uniqueid_2116</td>\n",
              "      <td>No</td>\n",
              "      <td>Urban</td>\n",
              "      <td>Yes</td>\n",
              "      <td>7.0</td>\n",
              "      <td>30.0</td>\n",
              "      <td>Female</td>\n",
              "      <td>Parent</td>\n",
              "      <td>Divorced/Seperated</td>\n",
              "      <td>Secondary education</td>\n",
              "      <td>Self employed</td>\n",
              "    </tr>\n",
              "    <tr>\n",
              "      <th>23523</th>\n",
              "      <td>Uganda</td>\n",
              "      <td>2018</td>\n",
              "      <td>uniqueid_2117</td>\n",
              "      <td>No</td>\n",
              "      <td>Rural</td>\n",
              "      <td>Yes</td>\n",
              "      <td>10.0</td>\n",
              "      <td>20.0</td>\n",
              "      <td>Male</td>\n",
              "      <td>Child</td>\n",
              "      <td>Single/Never Married</td>\n",
              "      <td>Secondary education</td>\n",
              "      <td>No Income</td>\n",
              "    </tr>\n",
              "  </tbody>\n",
              "</table>\n",
              "</div>"
            ],
            "text/plain": [
              "      country  year  ...  Level of Educuation    Type of Job\n",
              "23519  Uganda  2018  ...  No formal education   Other Income\n",
              "23520  Uganda  2018  ...  Secondary education   Other Income\n",
              "23521  Uganda  2018  ...    Primary education   Other Income\n",
              "23522  Uganda  2018  ...  Secondary education  Self employed\n",
              "23523  Uganda  2018  ...  Secondary education      No Income\n",
              "\n",
              "[5 rows x 13 columns]"
            ]
          },
          "metadata": {
            "tags": []
          },
          "execution_count": 9
        }
      ]
    },
    {
      "cell_type": "code",
      "metadata": {
        "id": "AznREeN3IEgn",
        "colab_type": "code",
        "outputId": "8a69fa07-6331-48c6-d6c6-96a20b730e53",
        "colab": {
          "base_uri": "https://localhost:8080/",
          "height": 357
        }
      },
      "source": [
        "# Check information about the dataset\n",
        "finance.info()"
      ],
      "execution_count": 0,
      "outputs": [
        {
          "output_type": "stream",
          "text": [
            "<class 'pandas.core.frame.DataFrame'>\n",
            "RangeIndex: 23524 entries, 0 to 23523\n",
            "Data columns (total 13 columns):\n",
            " #   Column                  Non-Null Count  Dtype  \n",
            "---  ------                  --------------  -----  \n",
            " 0   country                 23510 non-null  object \n",
            " 1   year                    23524 non-null  int64  \n",
            " 2   uniqueid                23524 non-null  object \n",
            " 3   Has a Bank account      23488 non-null  object \n",
            " 4   Type of Location        23509 non-null  object \n",
            " 5   Cell Phone Access       23513 non-null  object \n",
            " 6   household_size          23496 non-null  float64\n",
            " 7   Respondent Age          23490 non-null  float64\n",
            " 8   gender_of_respondent    23490 non-null  object \n",
            " 9   The relathip with head  23520 non-null  object \n",
            " 10  marital_status          23492 non-null  object \n",
            " 11  Level of Educuation     23495 non-null  object \n",
            " 12  Type of Job             23494 non-null  object \n",
            "dtypes: float64(2), int64(1), object(10)\n",
            "memory usage: 2.3+ MB\n"
          ],
          "name": "stdout"
        }
      ]
    },
    {
      "cell_type": "code",
      "metadata": {
        "id": "b4jIOjmEImPI",
        "colab_type": "code",
        "outputId": "2ae402d1-8db2-4d52-c17f-a00349595092",
        "colab": {
          "base_uri": "https://localhost:8080/",
          "height": 297
        }
      },
      "source": [
        "# Check basic statistical data\n",
        "finance.describe()"
      ],
      "execution_count": 0,
      "outputs": [
        {
          "output_type": "execute_result",
          "data": {
            "text/html": [
              "<div>\n",
              "<style scoped>\n",
              "    .dataframe tbody tr th:only-of-type {\n",
              "        vertical-align: middle;\n",
              "    }\n",
              "\n",
              "    .dataframe tbody tr th {\n",
              "        vertical-align: top;\n",
              "    }\n",
              "\n",
              "    .dataframe thead th {\n",
              "        text-align: right;\n",
              "    }\n",
              "</style>\n",
              "<table border=\"1\" class=\"dataframe\">\n",
              "  <thead>\n",
              "    <tr style=\"text-align: right;\">\n",
              "      <th></th>\n",
              "      <th>year</th>\n",
              "      <th>household_size</th>\n",
              "      <th>Respondent Age</th>\n",
              "    </tr>\n",
              "  </thead>\n",
              "  <tbody>\n",
              "    <tr>\n",
              "      <th>count</th>\n",
              "      <td>23524.000000</td>\n",
              "      <td>23496.000000</td>\n",
              "      <td>23490.000000</td>\n",
              "    </tr>\n",
              "    <tr>\n",
              "      <th>mean</th>\n",
              "      <td>2016.979000</td>\n",
              "      <td>3.681818</td>\n",
              "      <td>38.804300</td>\n",
              "    </tr>\n",
              "    <tr>\n",
              "      <th>std</th>\n",
              "      <td>0.899669</td>\n",
              "      <td>2.279933</td>\n",
              "      <td>16.519996</td>\n",
              "    </tr>\n",
              "    <tr>\n",
              "      <th>min</th>\n",
              "      <td>2016.000000</td>\n",
              "      <td>0.000000</td>\n",
              "      <td>16.000000</td>\n",
              "    </tr>\n",
              "    <tr>\n",
              "      <th>25%</th>\n",
              "      <td>2016.000000</td>\n",
              "      <td>2.000000</td>\n",
              "      <td>26.000000</td>\n",
              "    </tr>\n",
              "    <tr>\n",
              "      <th>50%</th>\n",
              "      <td>2017.000000</td>\n",
              "      <td>3.000000</td>\n",
              "      <td>35.000000</td>\n",
              "    </tr>\n",
              "    <tr>\n",
              "      <th>75%</th>\n",
              "      <td>2018.000000</td>\n",
              "      <td>5.000000</td>\n",
              "      <td>49.000000</td>\n",
              "    </tr>\n",
              "    <tr>\n",
              "      <th>max</th>\n",
              "      <td>2056.000000</td>\n",
              "      <td>21.000000</td>\n",
              "      <td>100.000000</td>\n",
              "    </tr>\n",
              "  </tbody>\n",
              "</table>\n",
              "</div>"
            ],
            "text/plain": [
              "               year  household_size  Respondent Age\n",
              "count  23524.000000    23496.000000    23490.000000\n",
              "mean    2016.979000        3.681818       38.804300\n",
              "std        0.899669        2.279933       16.519996\n",
              "min     2016.000000        0.000000       16.000000\n",
              "25%     2016.000000        2.000000       26.000000\n",
              "50%     2017.000000        3.000000       35.000000\n",
              "75%     2018.000000        5.000000       49.000000\n",
              "max     2056.000000       21.000000      100.000000"
            ]
          },
          "metadata": {
            "tags": []
          },
          "execution_count": 11
        }
      ]
    },
    {
      "cell_type": "code",
      "metadata": {
        "id": "7piOkezMI14k",
        "colab_type": "code",
        "outputId": "37a525cc-161d-4d28-f2f5-718fdfd10d99",
        "colab": {
          "base_uri": "https://localhost:8080/",
          "height": 255
        }
      },
      "source": [
        "# Check the datatypes of the variables in the dataset\n",
        "finance.dtypes"
      ],
      "execution_count": 0,
      "outputs": [
        {
          "output_type": "execute_result",
          "data": {
            "text/plain": [
              "country                    object\n",
              "year                        int64\n",
              "uniqueid                   object\n",
              "Has a Bank account         object\n",
              "Type of Location           object\n",
              "Cell Phone Access          object\n",
              "household_size            float64\n",
              "Respondent Age            float64\n",
              "gender_of_respondent       object\n",
              "The relathip with head     object\n",
              "marital_status             object\n",
              "Level of Educuation        object\n",
              "Type of Job                object\n",
              "dtype: object"
            ]
          },
          "metadata": {
            "tags": []
          },
          "execution_count": 12
        }
      ]
    },
    {
      "cell_type": "code",
      "metadata": {
        "id": "k1rXM2oeJhq4",
        "colab_type": "code",
        "outputId": "a53a453f-d729-4352-86ca-7040d7b9d0ea",
        "colab": {
          "base_uri": "https://localhost:8080/",
          "height": 34
        }
      },
      "source": [
        "# Check the number of entries in the dataset\n",
        "finance.shape"
      ],
      "execution_count": 0,
      "outputs": [
        {
          "output_type": "execute_result",
          "data": {
            "text/plain": [
              "(23524, 13)"
            ]
          },
          "metadata": {
            "tags": []
          },
          "execution_count": 13
        }
      ]
    },
    {
      "cell_type": "code",
      "metadata": {
        "id": "ImHFndipJlxq",
        "colab_type": "code",
        "outputId": "b75c9e3e-0d13-4644-b08e-0d16a2c30dfe",
        "colab": {
          "base_uri": "https://localhost:8080/",
          "height": 255
        }
      },
      "source": [
        "# Check the number of unique entries in each column\n",
        "finance.nunique()"
      ],
      "execution_count": 0,
      "outputs": [
        {
          "output_type": "execute_result",
          "data": {
            "text/plain": [
              "country                      4\n",
              "year                         6\n",
              "uniqueid                  8735\n",
              "Has a Bank account           2\n",
              "Type of Location             2\n",
              "Cell Phone Access            2\n",
              "household_size              21\n",
              "Respondent Age              85\n",
              "gender_of_respondent         2\n",
              "The relathip with head       6\n",
              "marital_status               5\n",
              "Level of Educuation          7\n",
              "Type of Job                 10\n",
              "dtype: int64"
            ]
          },
          "metadata": {
            "tags": []
          },
          "execution_count": 14
        }
      ]
    },
    {
      "cell_type": "markdown",
      "metadata": {
        "id": "3vy9YFs6x2PT",
        "colab_type": "text"
      },
      "source": [
        "## 4. Cleaning the Dataset"
      ]
    },
    {
      "cell_type": "code",
      "metadata": {
        "id": "4ofWM3rnKLeh",
        "colab_type": "code",
        "outputId": "363b91c0-8a9f-4bc2-9994-49b954a31305",
        "colab": {
          "base_uri": "https://localhost:8080/",
          "height": 255
        }
      },
      "source": [
        "# Check for missing data across the different columns\n",
        "\n",
        "finance.isnull().sum()"
      ],
      "execution_count": 0,
      "outputs": [
        {
          "output_type": "execute_result",
          "data": {
            "text/plain": [
              "country                   14\n",
              "year                       0\n",
              "uniqueid                   0\n",
              "Has a Bank account        36\n",
              "Type of Location          15\n",
              "Cell Phone Access         11\n",
              "household_size            28\n",
              "Respondent Age            34\n",
              "gender_of_respondent      34\n",
              "The relathip with head     4\n",
              "marital_status            32\n",
              "Level of Educuation       29\n",
              "Type of Job               30\n",
              "dtype: int64"
            ]
          },
          "metadata": {
            "tags": []
          },
          "execution_count": 15
        }
      ]
    },
    {
      "cell_type": "code",
      "metadata": {
        "id": "bVONzAJ-LCop",
        "colab_type": "code",
        "colab": {}
      },
      "source": [
        "# Drop all the rows having missing values\n",
        "finance.dropna(axis = 0, inplace=True)"
      ],
      "execution_count": 0,
      "outputs": []
    },
    {
      "cell_type": "code",
      "metadata": {
        "id": "wirImq9WMpIy",
        "colab_type": "code",
        "outputId": "807ff38a-d6e5-49ca-b879-7590583f6bce",
        "colab": {
          "base_uri": "https://localhost:8080/",
          "height": 255
        }
      },
      "source": [
        "# Check if there are still any missing values\n",
        "finance.isnull().any()"
      ],
      "execution_count": 0,
      "outputs": [
        {
          "output_type": "execute_result",
          "data": {
            "text/plain": [
              "country                   False\n",
              "year                      False\n",
              "uniqueid                  False\n",
              "Has a Bank account        False\n",
              "Type of Location          False\n",
              "Cell Phone Access         False\n",
              "household_size            False\n",
              "Respondent Age            False\n",
              "gender_of_respondent      False\n",
              "The relathip with head    False\n",
              "marital_status            False\n",
              "Level of Educuation       False\n",
              "Type of Job               False\n",
              "dtype: bool"
            ]
          },
          "metadata": {
            "tags": []
          },
          "execution_count": 17
        }
      ]
    },
    {
      "cell_type": "code",
      "metadata": {
        "id": "pYztUqadNL-u",
        "colab_type": "code",
        "outputId": "c751de23-a9b3-4d0e-b1c5-f864287c46eb",
        "colab": {
          "base_uri": "https://localhost:8080/",
          "height": 34
        }
      },
      "source": [
        "# Check for duplicated values\n",
        "\n",
        "finance.duplicated().any()\n",
        "\n",
        "# There are no duplicated values"
      ],
      "execution_count": 0,
      "outputs": [
        {
          "output_type": "execute_result",
          "data": {
            "text/plain": [
              "False"
            ]
          },
          "metadata": {
            "tags": []
          },
          "execution_count": 18
        }
      ]
    },
    {
      "cell_type": "code",
      "metadata": {
        "id": "UfudAx0gN7aG",
        "colab_type": "code",
        "outputId": "d8e60495-cda7-4009-c4c8-ae9fbeac763c",
        "colab": {
          "base_uri": "https://localhost:8080/",
          "height": 1000
        }
      },
      "source": [
        "# Check for outliers\n",
        "\n",
        "column_names = ['year', 'household_size', 'Respondent Age']\n",
        "fig, ax = plt.subplots(len(column_names), figsize=(7,20))\n",
        "\n",
        "for i, col_val in enumerate(column_names):\n",
        "  sns.boxplot(y = finance[col_val], ax=ax[i])\n",
        "  ax[i].set_title('Boxplot - {}'.format(col_val), fontsize=10)\n",
        "  ax[i].set_xlabel(col_val, fontsize=8)\n",
        "\n",
        "plt.show()"
      ],
      "execution_count": 0,
      "outputs": [
        {
          "output_type": "display_data",
          "data": {
            "image/png": "[encoded data removed]",
            "text/plain": [
              "<Figure size 504x1440 with 3 Axes>"
            ]
          },
          "metadata": {
            "tags": [],
            "needs_background": "light"
          }
        }
      ]
    },
    {
      "cell_type": "code",
      "metadata": {
        "id": "3kL0dcDrS3Lm",
        "colab_type": "code",
        "outputId": "8a2f8629-4f6f-475c-cc64-5638cf9237cc",
        "colab": {
          "base_uri": "https://localhost:8080/",
          "height": 85
        }
      },
      "source": [
        "# Check outliers using IQR Score\n",
        "\n",
        "# Find the IQR Score first\n",
        "\n",
        "Q1 = finance.quantile(0.25)\n",
        "Q3 = finance.quantile(0.75)\n",
        "IQR = Q3 - Q1\n",
        "print(IQR)"
      ],
      "execution_count": 0,
      "outputs": [
        {
          "output_type": "stream",
          "text": [
            "year               2.0\n",
            "household_size     3.0\n",
            "Respondent Age    23.0\n",
            "dtype: float64\n"
          ],
          "name": "stdout"
        }
      ]
    },
    {
      "cell_type": "code",
      "metadata": {
        "id": "7rh78UXgXmDB",
        "colab_type": "code",
        "outputId": "6537d1c2-e9f1-4a6d-e7dd-a47f45b54c49",
        "colab": {
          "base_uri": "https://localhost:8080/",
          "height": 782
        }
      },
      "source": [
        "# Multiply the (IQR) by 1.5\n",
        "# Add 1.5 x (IQR) to the third quartile. Any number greater than this is a suspected outlier.\n",
        "# Subtract 1.5 x (IQR) from the first quartile. Any number less than this is a suspected outlier.\n",
        "\n",
        "print(finance < (Q1 - 1.5 * IQR)) |(finance > (Q3 + 1.5 * IQR))\n",
        "\n",
        "# True indicates the prescence of an outlier"
      ],
      "execution_count": 0,
      "outputs": [
        {
          "output_type": "stream",
          "text": [
            "       Cell Phone Access  Has a Bank account  ...  uniqueid   year\n",
            "0                  False               False  ...     False  False\n",
            "1                  False               False  ...     False  False\n",
            "2                  False               False  ...     False  False\n",
            "3                  False               False  ...     False  False\n",
            "4                  False               False  ...     False  False\n",
            "...                  ...                 ...  ...       ...    ...\n",
            "23519              False               False  ...     False  False\n",
            "23520              False               False  ...     False  False\n",
            "23521              False               False  ...     False  False\n",
            "23522              False               False  ...     False  False\n",
            "23523              False               False  ...     False  False\n",
            "\n",
            "[23343 rows x 13 columns]\n"
          ],
          "name": "stdout"
        },
        {
          "output_type": "error",
          "ename": "TypeError",
          "evalue": "ignored",
          "traceback": [
            "\u001b[0;31m---------------------------------------------------------------------------\u001b[0m",
            "\u001b[0;31mTypeError\u001b[0m                                 Traceback (most recent call last)",
            "\u001b[0;32m/usr/local/lib/python3.6/dist-packages/pandas/core/ops/array_ops.py\u001b[0m in \u001b[0;36mna_logical_op\u001b[0;34m(x, y, op)\u001b[0m\n\u001b[1;32m    273\u001b[0m         \u001b[0;31m#  (xint or xbool) and (yint or bool)\u001b[0m\u001b[0;34m\u001b[0m\u001b[0;34m\u001b[0m\u001b[0;34m\u001b[0m\u001b[0m\n\u001b[0;32m--> 274\u001b[0;31m         \u001b[0mresult\u001b[0m \u001b[0;34m=\u001b[0m \u001b[0mop\u001b[0m\u001b[0;34m(\u001b[0m\u001b[0mx\u001b[0m\u001b[0;34m,\u001b[0m \u001b[0my\u001b[0m\u001b[0;34m)\u001b[0m\u001b[0;34m\u001b[0m\u001b[0;34m\u001b[0m\u001b[0m\n\u001b[0m\u001b[1;32m    275\u001b[0m     \u001b[0;32mexcept\u001b[0m \u001b[0mTypeError\u001b[0m\u001b[0;34m:\u001b[0m\u001b[0;34m\u001b[0m\u001b[0;34m\u001b[0m\u001b[0m\n",
            "\u001b[0;32m/usr/local/lib/python3.6/dist-packages/pandas/core/ops/roperator.py\u001b[0m in \u001b[0;36mror_\u001b[0;34m(left, right)\u001b[0m\n\u001b[1;32m     55\u001b[0m \u001b[0;32mdef\u001b[0m \u001b[0mror_\u001b[0m\u001b[0;34m(\u001b[0m\u001b[0mleft\u001b[0m\u001b[0;34m,\u001b[0m \u001b[0mright\u001b[0m\u001b[0;34m)\u001b[0m\u001b[0;34m:\u001b[0m\u001b[0;34m\u001b[0m\u001b[0;34m\u001b[0m\u001b[0m\n\u001b[0;32m---> 56\u001b[0;31m     \u001b[0;32mreturn\u001b[0m \u001b[0moperator\u001b[0m\u001b[0;34m.\u001b[0m\u001b[0mor_\u001b[0m\u001b[0;34m(\u001b[0m\u001b[0mright\u001b[0m\u001b[0;34m,\u001b[0m \u001b[0mleft\u001b[0m\u001b[0;34m)\u001b[0m\u001b[0;34m\u001b[0m\u001b[0;34m\u001b[0m\u001b[0m\n\u001b[0m\u001b[1;32m     57\u001b[0m \u001b[0;34m\u001b[0m\u001b[0m\n",
            "\u001b[0;31mTypeError\u001b[0m: unsupported operand type(s) for |: 'NoneType' and 'bool'",
            "\nDuring handling of the above exception, another exception occurred:\n",
            "\u001b[0;31mValueError\u001b[0m                                Traceback (most recent call last)",
            "\u001b[0;32m/usr/local/lib/python3.6/dist-packages/pandas/core/ops/array_ops.py\u001b[0m in \u001b[0;36mna_logical_op\u001b[0;34m(x, y, op)\u001b[0m\n\u001b[1;32m    287\u001b[0m             \u001b[0;32mtry\u001b[0m\u001b[0;34m:\u001b[0m\u001b[0;34m\u001b[0m\u001b[0;34m\u001b[0m\u001b[0m\n\u001b[0;32m--> 288\u001b[0;31m                 \u001b[0mresult\u001b[0m \u001b[0;34m=\u001b[0m \u001b[0mlibops\u001b[0m\u001b[0;34m.\u001b[0m\u001b[0mscalar_binop\u001b[0m\u001b[0;34m(\u001b[0m\u001b[0mx\u001b[0m\u001b[0;34m,\u001b[0m \u001b[0my\u001b[0m\u001b[0;34m,\u001b[0m \u001b[0mop\u001b[0m\u001b[0;34m)\u001b[0m\u001b[0;34m\u001b[0m\u001b[0;34m\u001b[0m\u001b[0m\n\u001b[0m\u001b[1;32m    289\u001b[0m             except (\n",
            "\u001b[0;32mpandas/_libs/ops.pyx\u001b[0m in \u001b[0;36mpandas._libs.ops.scalar_binop\u001b[0;34m()\u001b[0m\n",
            "\u001b[0;31mValueError\u001b[0m: Buffer has wrong number of dimensions (expected 1, got 2)",
            "\nDuring handling of the above exception, another exception occurred:\n",
            "\u001b[0;31mTypeError\u001b[0m                                 Traceback (most recent call last)",
            "\u001b[0;32m<ipython-input-21-c30851a2c324>\u001b[0m in \u001b[0;36m<module>\u001b[0;34m()\u001b[0m\n\u001b[1;32m      1\u001b[0m \u001b[0;34m\u001b[0m\u001b[0m\n\u001b[0;32m----> 2\u001b[0;31m \u001b[0mprint\u001b[0m\u001b[0;34m(\u001b[0m\u001b[0mfinance\u001b[0m \u001b[0;34m<\u001b[0m \u001b[0;34m(\u001b[0m\u001b[0mQ1\u001b[0m \u001b[0;34m-\u001b[0m \u001b[0;36m1.5\u001b[0m \u001b[0;34m*\u001b[0m \u001b[0mIQR\u001b[0m\u001b[0;34m)\u001b[0m\u001b[0;34m)\u001b[0m \u001b[0;34m|\u001b[0m\u001b[0;34m(\u001b[0m\u001b[0mfinance\u001b[0m \u001b[0;34m>\u001b[0m \u001b[0;34m(\u001b[0m\u001b[0mQ3\u001b[0m \u001b[0;34m+\u001b[0m \u001b[0;36m1.5\u001b[0m \u001b[0;34m*\u001b[0m \u001b[0mIQR\u001b[0m\u001b[0;34m)\u001b[0m\u001b[0;34m)\u001b[0m\u001b[0;34m\u001b[0m\u001b[0;34m\u001b[0m\u001b[0m\n\u001b[0m\u001b[1;32m      3\u001b[0m \u001b[0;34m\u001b[0m\u001b[0m\n\u001b[1;32m      4\u001b[0m \u001b[0;31m# True indicates the prescence of an outlier\u001b[0m\u001b[0;34m\u001b[0m\u001b[0;34m\u001b[0m\u001b[0;34m\u001b[0m\u001b[0m\n",
            "\u001b[0;32m/usr/local/lib/python3.6/dist-packages/pandas/core/ops/__init__.py\u001b[0m in \u001b[0;36mf\u001b[0;34m(self, other, axis, level, fill_value)\u001b[0m\n\u001b[1;32m    781\u001b[0m                 \u001b[0mself\u001b[0m \u001b[0;34m=\u001b[0m \u001b[0mself\u001b[0m\u001b[0;34m.\u001b[0m\u001b[0mfillna\u001b[0m\u001b[0;34m(\u001b[0m\u001b[0mfill_value\u001b[0m\u001b[0;34m)\u001b[0m\u001b[0;34m\u001b[0m\u001b[0;34m\u001b[0m\u001b[0m\n\u001b[1;32m    782\u001b[0m \u001b[0;34m\u001b[0m\u001b[0m\n\u001b[0;32m--> 783\u001b[0;31m             \u001b[0mnew_data\u001b[0m \u001b[0;34m=\u001b[0m \u001b[0mdispatch_to_series\u001b[0m\u001b[0;34m(\u001b[0m\u001b[0mself\u001b[0m\u001b[0;34m,\u001b[0m \u001b[0mother\u001b[0m\u001b[0;34m,\u001b[0m \u001b[0mop\u001b[0m\u001b[0;34m,\u001b[0m \u001b[0mstr_rep\u001b[0m\u001b[0;34m)\u001b[0m\u001b[0;34m\u001b[0m\u001b[0;34m\u001b[0m\u001b[0m\n\u001b[0m\u001b[1;32m    784\u001b[0m             \u001b[0;32mreturn\u001b[0m \u001b[0mself\u001b[0m\u001b[0;34m.\u001b[0m\u001b[0m_construct_result\u001b[0m\u001b[0;34m(\u001b[0m\u001b[0mnew_data\u001b[0m\u001b[0;34m)\u001b[0m\u001b[0;34m\u001b[0m\u001b[0;34m\u001b[0m\u001b[0m\n\u001b[1;32m    785\u001b[0m \u001b[0;34m\u001b[0m\u001b[0m\n",
            "\u001b[0;32m/usr/local/lib/python3.6/dist-packages/pandas/core/ops/__init__.py\u001b[0m in \u001b[0;36mdispatch_to_series\u001b[0;34m(left, right, func, str_rep, axis)\u001b[0m\n\u001b[1;32m    379\u001b[0m         \u001b[0;31m# Get the appropriate array-op to apply to each block's values.\u001b[0m\u001b[0;34m\u001b[0m\u001b[0;34m\u001b[0m\u001b[0;34m\u001b[0m\u001b[0m\n\u001b[1;32m    380\u001b[0m         \u001b[0marray_op\u001b[0m \u001b[0;34m=\u001b[0m \u001b[0mget_array_op\u001b[0m\u001b[0;34m(\u001b[0m\u001b[0mfunc\u001b[0m\u001b[0;34m,\u001b[0m \u001b[0mstr_rep\u001b[0m\u001b[0;34m=\u001b[0m\u001b[0mstr_rep\u001b[0m\u001b[0;34m)\u001b[0m\u001b[0;34m\u001b[0m\u001b[0;34m\u001b[0m\u001b[0m\n\u001b[0;32m--> 381\u001b[0;31m         \u001b[0mbm\u001b[0m \u001b[0;34m=\u001b[0m \u001b[0mleft\u001b[0m\u001b[0;34m.\u001b[0m\u001b[0m_data\u001b[0m\u001b[0;34m.\u001b[0m\u001b[0mapply\u001b[0m\u001b[0;34m(\u001b[0m\u001b[0marray_op\u001b[0m\u001b[0;34m,\u001b[0m \u001b[0mright\u001b[0m\u001b[0;34m=\u001b[0m\u001b[0mright\u001b[0m\u001b[0;34m)\u001b[0m\u001b[0;34m\u001b[0m\u001b[0;34m\u001b[0m\u001b[0m\n\u001b[0m\u001b[1;32m    382\u001b[0m         \u001b[0;32mreturn\u001b[0m \u001b[0mtype\u001b[0m\u001b[0;34m(\u001b[0m\u001b[0mleft\u001b[0m\u001b[0;34m)\u001b[0m\u001b[0;34m(\u001b[0m\u001b[0mbm\u001b[0m\u001b[0;34m)\u001b[0m\u001b[0;34m\u001b[0m\u001b[0;34m\u001b[0m\u001b[0m\n\u001b[1;32m    383\u001b[0m \u001b[0;34m\u001b[0m\u001b[0m\n",
            "\u001b[0;32m/usr/local/lib/python3.6/dist-packages/pandas/core/internals/managers.py\u001b[0m in \u001b[0;36mapply\u001b[0;34m(self, f, filter, **kwargs)\u001b[0m\n\u001b[1;32m    438\u001b[0m \u001b[0;34m\u001b[0m\u001b[0m\n\u001b[1;32m    439\u001b[0m             \u001b[0;32mif\u001b[0m \u001b[0mcallable\u001b[0m\u001b[0;34m(\u001b[0m\u001b[0mf\u001b[0m\u001b[0;34m)\u001b[0m\u001b[0;34m:\u001b[0m\u001b[0;34m\u001b[0m\u001b[0;34m\u001b[0m\u001b[0m\n\u001b[0;32m--> 440\u001b[0;31m                 \u001b[0mapplied\u001b[0m \u001b[0;34m=\u001b[0m \u001b[0mb\u001b[0m\u001b[0;34m.\u001b[0m\u001b[0mapply\u001b[0m\u001b[0;34m(\u001b[0m\u001b[0mf\u001b[0m\u001b[0;34m,\u001b[0m \u001b[0;34m**\u001b[0m\u001b[0mkwargs\u001b[0m\u001b[0;34m)\u001b[0m\u001b[0;34m\u001b[0m\u001b[0;34m\u001b[0m\u001b[0m\n\u001b[0m\u001b[1;32m    441\u001b[0m             \u001b[0;32melse\u001b[0m\u001b[0;34m:\u001b[0m\u001b[0;34m\u001b[0m\u001b[0;34m\u001b[0m\u001b[0m\n\u001b[1;32m    442\u001b[0m                 \u001b[0mapplied\u001b[0m \u001b[0;34m=\u001b[0m \u001b[0mgetattr\u001b[0m\u001b[0;34m(\u001b[0m\u001b[0mb\u001b[0m\u001b[0;34m,\u001b[0m \u001b[0mf\u001b[0m\u001b[0;34m)\u001b[0m\u001b[0;34m(\u001b[0m\u001b[0;34m**\u001b[0m\u001b[0mkwargs\u001b[0m\u001b[0;34m)\u001b[0m\u001b[0;34m\u001b[0m\u001b[0;34m\u001b[0m\u001b[0m\n",
            "\u001b[0;32m/usr/local/lib/python3.6/dist-packages/pandas/core/internals/blocks.py\u001b[0m in \u001b[0;36mapply\u001b[0;34m(self, func, **kwargs)\u001b[0m\n\u001b[1;32m    388\u001b[0m         \"\"\"\n\u001b[1;32m    389\u001b[0m         \u001b[0;32mwith\u001b[0m \u001b[0mnp\u001b[0m\u001b[0;34m.\u001b[0m\u001b[0merrstate\u001b[0m\u001b[0;34m(\u001b[0m\u001b[0mall\u001b[0m\u001b[0;34m=\u001b[0m\u001b[0;34m\"ignore\"\u001b[0m\u001b[0;34m)\u001b[0m\u001b[0;34m:\u001b[0m\u001b[0;34m\u001b[0m\u001b[0;34m\u001b[0m\u001b[0m\n\u001b[0;32m--> 390\u001b[0;31m             \u001b[0mresult\u001b[0m \u001b[0;34m=\u001b[0m \u001b[0mfunc\u001b[0m\u001b[0;34m(\u001b[0m\u001b[0mself\u001b[0m\u001b[0;34m.\u001b[0m\u001b[0mvalues\u001b[0m\u001b[0;34m,\u001b[0m \u001b[0;34m**\u001b[0m\u001b[0mkwargs\u001b[0m\u001b[0;34m)\u001b[0m\u001b[0;34m\u001b[0m\u001b[0;34m\u001b[0m\u001b[0m\n\u001b[0m\u001b[1;32m    391\u001b[0m \u001b[0;34m\u001b[0m\u001b[0m\n\u001b[1;32m    392\u001b[0m         \u001b[0;32mif\u001b[0m \u001b[0mis_extension_array_dtype\u001b[0m\u001b[0;34m(\u001b[0m\u001b[0mresult\u001b[0m\u001b[0;34m)\u001b[0m \u001b[0;32mand\u001b[0m \u001b[0mresult\u001b[0m\u001b[0;34m.\u001b[0m\u001b[0mndim\u001b[0m \u001b[0;34m>\u001b[0m \u001b[0;36m1\u001b[0m\u001b[0;34m:\u001b[0m\u001b[0;34m\u001b[0m\u001b[0;34m\u001b[0m\u001b[0m\n",
            "\u001b[0;32m/usr/local/lib/python3.6/dist-packages/pandas/core/ops/array_ops.py\u001b[0m in \u001b[0;36mlogical_op\u001b[0;34m(left, right, op)\u001b[0m\n\u001b[1;32m    364\u001b[0m         \u001b[0mfiller\u001b[0m \u001b[0;34m=\u001b[0m \u001b[0mfill_int\u001b[0m \u001b[0;32mif\u001b[0m \u001b[0mis_self_int_dtype\u001b[0m \u001b[0;32mand\u001b[0m \u001b[0mis_other_int_dtype\u001b[0m \u001b[0;32melse\u001b[0m \u001b[0mfill_bool\u001b[0m\u001b[0;34m\u001b[0m\u001b[0;34m\u001b[0m\u001b[0m\n\u001b[1;32m    365\u001b[0m \u001b[0;34m\u001b[0m\u001b[0m\n\u001b[0;32m--> 366\u001b[0;31m         \u001b[0mres_values\u001b[0m \u001b[0;34m=\u001b[0m \u001b[0mna_logical_op\u001b[0m\u001b[0;34m(\u001b[0m\u001b[0mlvalues\u001b[0m\u001b[0;34m,\u001b[0m \u001b[0mrvalues\u001b[0m\u001b[0;34m,\u001b[0m \u001b[0mop\u001b[0m\u001b[0;34m)\u001b[0m\u001b[0;34m\u001b[0m\u001b[0;34m\u001b[0m\u001b[0m\n\u001b[0m\u001b[1;32m    367\u001b[0m         \u001b[0mres_values\u001b[0m \u001b[0;34m=\u001b[0m \u001b[0mfiller\u001b[0m\u001b[0;34m(\u001b[0m\u001b[0mres_values\u001b[0m\u001b[0;34m)\u001b[0m  \u001b[0;31m# type: ignore\u001b[0m\u001b[0;34m\u001b[0m\u001b[0;34m\u001b[0m\u001b[0m\n\u001b[1;32m    368\u001b[0m \u001b[0;34m\u001b[0m\u001b[0m\n",
            "\u001b[0;32m/usr/local/lib/python3.6/dist-packages/pandas/core/ops/array_ops.py\u001b[0m in \u001b[0;36mna_logical_op\u001b[0;34m(x, y, op)\u001b[0m\n\u001b[1;32m    296\u001b[0m                 \u001b[0mtyp\u001b[0m \u001b[0;34m=\u001b[0m \u001b[0mtype\u001b[0m\u001b[0;34m(\u001b[0m\u001b[0my\u001b[0m\u001b[0;34m)\u001b[0m\u001b[0;34m.\u001b[0m\u001b[0m__name__\u001b[0m\u001b[0;34m\u001b[0m\u001b[0;34m\u001b[0m\u001b[0m\n\u001b[1;32m    297\u001b[0m                 raise TypeError(\n\u001b[0;32m--> 298\u001b[0;31m                     \u001b[0;34mf\"Cannot perform '{op.__name__}' with a dtyped [{x.dtype}] array \"\u001b[0m\u001b[0;34m\u001b[0m\u001b[0;34m\u001b[0m\u001b[0m\n\u001b[0m\u001b[1;32m    299\u001b[0m                     \u001b[0;34mf\"and scalar of type [{typ}]\"\u001b[0m\u001b[0;34m\u001b[0m\u001b[0;34m\u001b[0m\u001b[0m\n\u001b[1;32m    300\u001b[0m                 )\n",
            "\u001b[0;31mTypeError\u001b[0m: Cannot perform 'ror_' with a dtyped [bool] array and scalar of type [NoneType]"
          ]
        }
      ]
    },
    {
      "cell_type": "code",
      "metadata": {
        "id": "OYZQmcmbY351",
        "colab_type": "code",
        "outputId": "7b1cd51f-18d1-4b1c-f4d6-10d245614a0a",
        "colab": {
          "base_uri": "https://localhost:8080/",
          "height": 34
        }
      },
      "source": [
        "# Remove the outliers\n",
        "\n",
        "finance_outliers = finance[~((finance < (Q1 - 1.5 * IQR)) |(finance > (Q3 + 1.5 * IQR))).any(axis=1)]\n",
        "finance_outliers.shape"
      ],
      "execution_count": 0,
      "outputs": [
        {
          "output_type": "execute_result",
          "data": {
            "text/plain": [
              "(22725, 13)"
            ]
          },
          "metadata": {
            "tags": []
          },
          "execution_count": 22
        }
      ]
    },
    {
      "cell_type": "code",
      "metadata": {
        "id": "Ln-yhGspaTLA",
        "colab_type": "code",
        "colab": {}
      },
      "source": [
        "# Export the cleaned dataset\n",
        "\n",
        "finance_outliers.to_csv('finance_clean.csv')"
      ],
      "execution_count": 0,
      "outputs": []
    },
    {
      "cell_type": "code",
      "metadata": {
        "id": "0v9GNzA-bBMp",
        "colab_type": "code",
        "outputId": "a0ed6315-1781-4859-fe11-d1145b30bee3",
        "colab": {
          "base_uri": "https://localhost:8080/",
          "height": 377
        }
      },
      "source": [
        "finance_clean = pd.read_csv('finance_clean.csv')\n",
        "finance_clean.head()"
      ],
      "execution_count": 0,
      "outputs": [
        {
          "output_type": "execute_result",
          "data": {
            "text/html": [
              "<div>\n",
              "<style scoped>\n",
              "    .dataframe tbody tr th:only-of-type {\n",
              "        vertical-align: middle;\n",
              "    }\n",
              "\n",
              "    .dataframe tbody tr th {\n",
              "        vertical-align: top;\n",
              "    }\n",
              "\n",
              "    .dataframe thead th {\n",
              "        text-align: right;\n",
              "    }\n",
              "</style>\n",
              "<table border=\"1\" class=\"dataframe\">\n",
              "  <thead>\n",
              "    <tr style=\"text-align: right;\">\n",
              "      <th></th>\n",
              "      <th>Unnamed: 0</th>\n",
              "      <th>country</th>\n",
              "      <th>year</th>\n",
              "      <th>uniqueid</th>\n",
              "      <th>Has a Bank account</th>\n",
              "      <th>Type of Location</th>\n",
              "      <th>Cell Phone Access</th>\n",
              "      <th>household_size</th>\n",
              "      <th>Respondent Age</th>\n",
              "      <th>gender_of_respondent</th>\n",
              "      <th>The relathip with head</th>\n",
              "      <th>marital_status</th>\n",
              "      <th>Level of Educuation</th>\n",
              "      <th>Type of Job</th>\n",
              "    </tr>\n",
              "  </thead>\n",
              "  <tbody>\n",
              "    <tr>\n",
              "      <th>0</th>\n",
              "      <td>0</td>\n",
              "      <td>Kenya</td>\n",
              "      <td>2018</td>\n",
              "      <td>uniqueid_1</td>\n",
              "      <td>Yes</td>\n",
              "      <td>Rural</td>\n",
              "      <td>Yes</td>\n",
              "      <td>3.0</td>\n",
              "      <td>24.0</td>\n",
              "      <td>Female</td>\n",
              "      <td>Spouse</td>\n",
              "      <td>Married/Living together</td>\n",
              "      <td>Secondary education</td>\n",
              "      <td>Self employed</td>\n",
              "    </tr>\n",
              "    <tr>\n",
              "      <th>1</th>\n",
              "      <td>1</td>\n",
              "      <td>Kenya</td>\n",
              "      <td>2018</td>\n",
              "      <td>uniqueid_2</td>\n",
              "      <td>No</td>\n",
              "      <td>Rural</td>\n",
              "      <td>No</td>\n",
              "      <td>5.0</td>\n",
              "      <td>70.0</td>\n",
              "      <td>Female</td>\n",
              "      <td>Head of Household</td>\n",
              "      <td>Widowed</td>\n",
              "      <td>No formal education</td>\n",
              "      <td>Government Dependent</td>\n",
              "    </tr>\n",
              "    <tr>\n",
              "      <th>2</th>\n",
              "      <td>2</td>\n",
              "      <td>Kenya</td>\n",
              "      <td>2018</td>\n",
              "      <td>uniqueid_3</td>\n",
              "      <td>Yes</td>\n",
              "      <td>Urban</td>\n",
              "      <td>Yes</td>\n",
              "      <td>5.0</td>\n",
              "      <td>26.0</td>\n",
              "      <td>Male</td>\n",
              "      <td>Other relative</td>\n",
              "      <td>Single/Never Married</td>\n",
              "      <td>Vocational/Specialised training</td>\n",
              "      <td>Self employed</td>\n",
              "    </tr>\n",
              "    <tr>\n",
              "      <th>3</th>\n",
              "      <td>3</td>\n",
              "      <td>Kenya</td>\n",
              "      <td>2018</td>\n",
              "      <td>uniqueid_4</td>\n",
              "      <td>No</td>\n",
              "      <td>Rural</td>\n",
              "      <td>Yes</td>\n",
              "      <td>5.0</td>\n",
              "      <td>34.0</td>\n",
              "      <td>Female</td>\n",
              "      <td>Head of Household</td>\n",
              "      <td>Married/Living together</td>\n",
              "      <td>Primary education</td>\n",
              "      <td>Formally employed Private</td>\n",
              "    </tr>\n",
              "    <tr>\n",
              "      <th>4</th>\n",
              "      <td>4</td>\n",
              "      <td>Kenya</td>\n",
              "      <td>2018</td>\n",
              "      <td>uniqueid_5</td>\n",
              "      <td>No</td>\n",
              "      <td>Urban</td>\n",
              "      <td>No</td>\n",
              "      <td>8.0</td>\n",
              "      <td>26.0</td>\n",
              "      <td>Male</td>\n",
              "      <td>Child</td>\n",
              "      <td>Single/Never Married</td>\n",
              "      <td>Primary education</td>\n",
              "      <td>Informally employed</td>\n",
              "    </tr>\n",
              "  </tbody>\n",
              "</table>\n",
              "</div>"
            ],
            "text/plain": [
              "   Unnamed: 0  ...                Type of Job\n",
              "0           0  ...              Self employed\n",
              "1           1  ...       Government Dependent\n",
              "2           2  ...              Self employed\n",
              "3           3  ...  Formally employed Private\n",
              "4           4  ...        Informally employed\n",
              "\n",
              "[5 rows x 14 columns]"
            ]
          },
          "metadata": {
            "tags": []
          },
          "execution_count": 24
        }
      ]
    },
    {
      "cell_type": "markdown",
      "metadata": {
        "id": "VjBXuMdLx7mS",
        "colab_type": "text"
      },
      "source": [
        "## 5. Exploratory Analysis"
      ]
    },
    {
      "cell_type": "markdown",
      "metadata": {
        "id": "OXDczFSrcYHu",
        "colab_type": "text"
      },
      "source": [
        "### a) Univariate Analysis"
      ]
    },
    {
      "cell_type": "markdown",
      "metadata": {
        "id": "qsqtDMcnbJKr",
        "colab_type": "text"
      },
      "source": [
        "Univariate analysis describes an individual variable. Its aim is to describe the data and find patterns within it. \n",
        "\n",
        "Our dataset conists of continous and categorical variables.\n",
        "\n",
        "For the continuous variables, we'll use measures of central tendency and dispersion. These variables will be visualized using histograms and boxplots.\n",
        "\n",
        "\n",
        "For the categorical variables, we'll use frequency tables and bar charts."
      ]
    },
    {
      "cell_type": "markdown",
      "metadata": {
        "id": "Q7qtZoPTtbuY",
        "colab_type": "text"
      },
      "source": [
        "#### i) Measures of Central Tendency"
      ]
    },
    {
      "cell_type": "markdown",
      "metadata": {
        "id": "_9_reOUB_mu6",
        "colab_type": "text"
      },
      "source": [
        "##### Mean"
      ]
    },
    {
      "cell_type": "code",
      "metadata": {
        "id": "Ff24GrJccbRG",
        "colab_type": "code",
        "outputId": "b2f64ba0-c2af-4323-9da5-c837c2467d29",
        "colab": {
          "base_uri": "https://localhost:8080/",
          "height": 34
        }
      },
      "source": [
        "# Find the mean of the numerical variables\n",
        "# The mean here estimates the value of the whole column\n",
        "\n",
        "finance_clean[\"year\"].mean()"
      ],
      "execution_count": 0,
      "outputs": [
        {
          "output_type": "execute_result",
          "data": {
            "text/plain": [
              "2016.9681848184819"
            ]
          },
          "metadata": {
            "tags": []
          },
          "execution_count": 28
        }
      ]
    },
    {
      "cell_type": "code",
      "metadata": {
        "id": "WJf3H4CKsAsS",
        "colab_type": "code",
        "outputId": "6eb8337a-7a0b-4810-9fec-09713e45a010",
        "colab": {
          "base_uri": "https://localhost:8080/",
          "height": 34
        }
      },
      "source": [
        "finance_clean[\"household_size\"].mean()"
      ],
      "execution_count": 0,
      "outputs": [
        {
          "output_type": "execute_result",
          "data": {
            "text/plain": [
              "3.57984598459846"
            ]
          },
          "metadata": {
            "tags": []
          },
          "execution_count": 29
        }
      ]
    },
    {
      "cell_type": "code",
      "metadata": {
        "id": "exvEuZ6QsSrj",
        "colab_type": "code",
        "outputId": "029ec4bf-72c4-4115-9097-de38fff26144",
        "colab": {
          "base_uri": "https://localhost:8080/",
          "height": 34
        }
      },
      "source": [
        "finance_clean[\"Respondent Age\"].mean()"
      ],
      "execution_count": 0,
      "outputs": [
        {
          "output_type": "execute_result",
          "data": {
            "text/plain": [
              "38.34798679867987"
            ]
          },
          "metadata": {
            "tags": []
          },
          "execution_count": 30
        }
      ]
    },
    {
      "cell_type": "markdown",
      "metadata": {
        "id": "SnEijYpn_vnL",
        "colab_type": "text"
      },
      "source": [
        "##### Mode"
      ]
    },
    {
      "cell_type": "code",
      "metadata": {
        "id": "-d1VZNWAsdos",
        "colab_type": "code",
        "outputId": "5c796efe-1282-43bf-edd3-b96aa2623d75",
        "colab": {
          "base_uri": "https://localhost:8080/",
          "height": 51
        }
      },
      "source": [
        "# Find the mode of the numerical variables\n",
        "# The mode is the value that appears most frequently\n",
        "\n",
        "finance_clean[\"year\"].mode()"
      ],
      "execution_count": 0,
      "outputs": [
        {
          "output_type": "execute_result",
          "data": {
            "text/plain": [
              "0    2016\n",
              "dtype: int64"
            ]
          },
          "metadata": {
            "tags": []
          },
          "execution_count": 31
        }
      ]
    },
    {
      "cell_type": "code",
      "metadata": {
        "id": "Q1aD3zMnsz61",
        "colab_type": "code",
        "outputId": "770fa277-d56b-40bb-90bf-6b8d723a320a",
        "colab": {
          "base_uri": "https://localhost:8080/",
          "height": 51
        }
      },
      "source": [
        "finance_clean[\"household_size\"].mode()"
      ],
      "execution_count": 0,
      "outputs": [
        {
          "output_type": "execute_result",
          "data": {
            "text/plain": [
              "0    2.0\n",
              "dtype: float64"
            ]
          },
          "metadata": {
            "tags": []
          },
          "execution_count": 32
        }
      ]
    },
    {
      "cell_type": "code",
      "metadata": {
        "id": "o-nQ98-9s55W",
        "colab_type": "code",
        "outputId": "7f5dcce2-70c3-4039-b910-6900b0113660",
        "colab": {
          "base_uri": "https://localhost:8080/",
          "height": 51
        }
      },
      "source": [
        "finance_clean[\"Respondent Age\"].mode()"
      ],
      "execution_count": 0,
      "outputs": [
        {
          "output_type": "execute_result",
          "data": {
            "text/plain": [
              "0    30.0\n",
              "dtype: float64"
            ]
          },
          "metadata": {
            "tags": []
          },
          "execution_count": 33
        }
      ]
    },
    {
      "cell_type": "markdown",
      "metadata": {
        "id": "EwyS8Lhz_zzS",
        "colab_type": "text"
      },
      "source": [
        "##### Median"
      ]
    },
    {
      "cell_type": "code",
      "metadata": {
        "id": "HQq__VQ3tB9w",
        "colab_type": "code",
        "outputId": "936ef814-1eba-43b9-df1d-287dc4d5b832",
        "colab": {
          "base_uri": "https://localhost:8080/",
          "height": 34
        }
      },
      "source": [
        "# Find the median of the numerical variables\n",
        "# The median is the value that appears in the middle and divides the data in 2 equal parts\n",
        "\n",
        "finance_clean[\"year\"].median()"
      ],
      "execution_count": 0,
      "outputs": [
        {
          "output_type": "execute_result",
          "data": {
            "text/plain": [
              "2017.0"
            ]
          },
          "metadata": {
            "tags": []
          },
          "execution_count": 34
        }
      ]
    },
    {
      "cell_type": "code",
      "metadata": {
        "id": "Pwdjsn_5tKi1",
        "colab_type": "code",
        "outputId": "141b73ed-fee8-481d-e169-b7a29ddfca9e",
        "colab": {
          "base_uri": "https://localhost:8080/",
          "height": 34
        }
      },
      "source": [
        "finance_clean[\"household_size\"].median()"
      ],
      "execution_count": 0,
      "outputs": [
        {
          "output_type": "execute_result",
          "data": {
            "text/plain": [
              "3.0"
            ]
          },
          "metadata": {
            "tags": []
          },
          "execution_count": 35
        }
      ]
    },
    {
      "cell_type": "code",
      "metadata": {
        "id": "iPmFbbahtMdc",
        "colab_type": "code",
        "outputId": "90f5e602-eb34-4383-8ee3-2baaff718cc0",
        "colab": {
          "base_uri": "https://localhost:8080/",
          "height": 34
        }
      },
      "source": [
        "finance_clean[\"Respondent Age\"].median()"
      ],
      "execution_count": 0,
      "outputs": [
        {
          "output_type": "execute_result",
          "data": {
            "text/plain": [
              "35.0"
            ]
          },
          "metadata": {
            "tags": []
          },
          "execution_count": 36
        }
      ]
    },
    {
      "cell_type": "markdown",
      "metadata": {
        "id": "NVdjMXZPughp",
        "colab_type": "text"
      },
      "source": [
        "#### ii) Measures of Dispersion"
      ]
    },
    {
      "cell_type": "markdown",
      "metadata": {
        "id": "LkevJT2u_38w",
        "colab_type": "text"
      },
      "source": [
        "##### Standard Deviation"
      ]
    },
    {
      "cell_type": "code",
      "metadata": {
        "id": "K1QLr_oyumPD",
        "colab_type": "code",
        "outputId": "fb32c07a-4cf7-44b4-b29b-079028ade325",
        "colab": {
          "base_uri": "https://localhost:8080/",
          "height": 34
        }
      },
      "source": [
        "# Find the standard deviation\n",
        "# This shows how far the data is spread out from the mean\n",
        "\n",
        "finance_clean[\"year\"].std()\n",
        "\n",
        "# The std. deviation gotten is low meaning that the data points in this column are close to the mean"
      ],
      "execution_count": 0,
      "outputs": [
        {
          "output_type": "execute_result",
          "data": {
            "text/plain": [
              "0.8463657883520268"
            ]
          },
          "metadata": {
            "tags": []
          },
          "execution_count": 37
        }
      ]
    },
    {
      "cell_type": "code",
      "metadata": {
        "id": "-0G1EkzPvFF_",
        "colab_type": "code",
        "outputId": "1513e466-13c5-4dee-df36-2dc59e90eea5",
        "colab": {
          "base_uri": "https://localhost:8080/",
          "height": 34
        }
      },
      "source": [
        "finance_clean[\"household_size\"].std()\n",
        "\n",
        "# The std. deviation gotten is low meaning that the data points in this column are close to the mean"
      ],
      "execution_count": 0,
      "outputs": [
        {
          "output_type": "execute_result",
          "data": {
            "text/plain": [
              "2.080542136724138"
            ]
          },
          "metadata": {
            "tags": []
          },
          "execution_count": 38
        }
      ]
    },
    {
      "cell_type": "code",
      "metadata": {
        "id": "M2eEtT4mvHrb",
        "colab_type": "code",
        "outputId": "9ad7de19-6228-4bb2-8605-0d2757d5c45b",
        "colab": {
          "base_uri": "https://localhost:8080/",
          "height": 34
        }
      },
      "source": [
        "finance_clean[\"Respondent Age\"].std()\n",
        "\n",
        "# The std. deviation gotten is a bit big meaning that the data points in this column are spread out a bit\n",
        "# farther from the mean over a wider range of values"
      ],
      "execution_count": 0,
      "outputs": [
        {
          "output_type": "execute_result",
          "data": {
            "text/plain": [
              "15.806141256107674"
            ]
          },
          "metadata": {
            "tags": []
          },
          "execution_count": 39
        }
      ]
    },
    {
      "cell_type": "markdown",
      "metadata": {
        "id": "1JEW6iyf_8Xl",
        "colab_type": "text"
      },
      "source": [
        "##### Variance"
      ]
    },
    {
      "cell_type": "code",
      "metadata": {
        "id": "N447fbKnvPTe",
        "colab_type": "code",
        "outputId": "a230f72f-7cf9-4a61-dcdd-372b50e1c672",
        "colab": {
          "base_uri": "https://localhost:8080/",
          "height": 34
        }
      },
      "source": [
        "# Find the variance\n",
        "# This is a square of the standard deviation\n",
        "\n",
        "finance_clean[\"year\"].var()\n",
        "\n",
        "# The variance here is very low meaning the data points are close to the mean"
      ],
      "execution_count": 0,
      "outputs": [
        {
          "output_type": "execute_result",
          "data": {
            "text/plain": [
              "0.7163350476927479"
            ]
          },
          "metadata": {
            "tags": []
          },
          "execution_count": 40
        }
      ]
    },
    {
      "cell_type": "code",
      "metadata": {
        "id": "5ncUx3BtvWQo",
        "colab_type": "code",
        "outputId": "e20e18f5-8d36-48c6-906e-2f27d5ab810b",
        "colab": {
          "base_uri": "https://localhost:8080/",
          "height": 34
        }
      },
      "source": [
        "finance_clean[\"household_size\"].var()\n",
        "\n",
        "# The variance here is low meaning the data points are close to the mean"
      ],
      "execution_count": 0,
      "outputs": [
        {
          "output_type": "execute_result",
          "data": {
            "text/plain": [
              "4.328655582684643"
            ]
          },
          "metadata": {
            "tags": []
          },
          "execution_count": 41
        }
      ]
    },
    {
      "cell_type": "code",
      "metadata": {
        "id": "AqJyid81vYgx",
        "colab_type": "code",
        "outputId": "10b0c4a0-0c5a-4833-ea1f-eec98749887a",
        "colab": {
          "base_uri": "https://localhost:8080/",
          "height": 34
        }
      },
      "source": [
        "finance_clean[\"Respondent Age\"].var()\n",
        "\n",
        "# The variance here is high meaning the data points are more scattered away from the mean"
      ],
      "execution_count": 0,
      "outputs": [
        {
          "output_type": "execute_result",
          "data": {
            "text/plain": [
              "249.83410140802906"
            ]
          },
          "metadata": {
            "tags": []
          },
          "execution_count": 42
        }
      ]
    },
    {
      "cell_type": "markdown",
      "metadata": {
        "id": "xhe07ewPAAD7",
        "colab_type": "text"
      },
      "source": [
        "##### Range"
      ]
    },
    {
      "cell_type": "code",
      "metadata": {
        "id": "NUbO3-_tvf4N",
        "colab_type": "code",
        "outputId": "4e4ee510-6dac-4a22-e39e-7e14431763f8",
        "colab": {
          "base_uri": "https://localhost:8080/",
          "height": 34
        }
      },
      "source": [
        "# Find the range\n",
        "# This is the difference between the highest and lowest value\n",
        "\n",
        "\n",
        "# Finding the min and max values of the year\n",
        "finance_year_max = finance_clean[\"year\"].max()\n",
        "finance_year_min = finance_clean[\"year\"].min()\n",
        "\n",
        "# Calculating the range\n",
        "finance_year_max - finance_year_min\n"
      ],
      "execution_count": 0,
      "outputs": [
        {
          "output_type": "execute_result",
          "data": {
            "text/plain": [
              "2"
            ]
          },
          "metadata": {
            "tags": []
          },
          "execution_count": 43
        }
      ]
    },
    {
      "cell_type": "code",
      "metadata": {
        "id": "HKvWJz-JwqgS",
        "colab_type": "code",
        "outputId": "b2662975-462b-4047-947b-fbe958d71aaa",
        "colab": {
          "base_uri": "https://localhost:8080/",
          "height": 34
        }
      },
      "source": [
        "# Finding the min and max values of the household size\n",
        "finance_household_max = finance_clean[\"household_size\"].max()\n",
        "finance_household_min = finance_clean[\"household_size\"].min()\n",
        "\n",
        "# Calculating the range\n",
        "finance_household_max - finance_household_min"
      ],
      "execution_count": 0,
      "outputs": [
        {
          "output_type": "execute_result",
          "data": {
            "text/plain": [
              "9.0"
            ]
          },
          "metadata": {
            "tags": []
          },
          "execution_count": 44
        }
      ]
    },
    {
      "cell_type": "code",
      "metadata": {
        "id": "ZeOArWLCwrUZ",
        "colab_type": "code",
        "outputId": "b2e29f29-4c28-4adf-d53f-0d0de6ef4fe1",
        "colab": {
          "base_uri": "https://localhost:8080/",
          "height": 34
        }
      },
      "source": [
        "# Finding the min and max values of the respondent's age\n",
        "finance_age_max = finance_clean[\"Respondent Age\"].max()\n",
        "finance_age_min = finance_clean[\"Respondent Age\"].min()\n",
        "\n",
        "# Calculating the range\n",
        "finance_age_max - finance_age_min"
      ],
      "execution_count": 0,
      "outputs": [
        {
          "output_type": "execute_result",
          "data": {
            "text/plain": [
              "67.0"
            ]
          },
          "metadata": {
            "tags": []
          },
          "execution_count": 45
        }
      ]
    },
    {
      "cell_type": "markdown",
      "metadata": {
        "id": "VxBtpPwXAEWX",
        "colab_type": "text"
      },
      "source": [
        "##### Interquartile Range"
      ]
    },
    {
      "cell_type": "code",
      "metadata": {
        "id": "wf0vJpR9yqsy",
        "colab_type": "code",
        "outputId": "e9b85458-34d8-42df-ace7-1989c0d4ead4",
        "colab": {
          "base_uri": "https://localhost:8080/",
          "height": 34
        }
      },
      "source": [
        "# Find the interquartile range\n",
        "\n",
        "# Find Quartile 1 (Q1) and Quartile 3 (Q3) of year\n",
        "# Interquartile range is gotten by subtracting Q1 from Q3. This gives the midspread.\n",
        "\n",
        "Q1 = finance_clean[\"year\"].quantile(0.25)\n",
        "Q3 = finance_clean[\"year\"].quantile(0.75)\n",
        "\n",
        "Q3 - Q1"
      ],
      "execution_count": 0,
      "outputs": [
        {
          "output_type": "execute_result",
          "data": {
            "text/plain": [
              "2.0"
            ]
          },
          "metadata": {
            "tags": []
          },
          "execution_count": 46
        }
      ]
    },
    {
      "cell_type": "code",
      "metadata": {
        "id": "-4iPGDMq03yi",
        "colab_type": "code",
        "outputId": "58900059-9520-4fec-89cf-880061845ec1",
        "colab": {
          "base_uri": "https://localhost:8080/",
          "height": 34
        }
      },
      "source": [
        "# Find Quartile 1 (Q1) and Quartile 3 (Q3) of household size\n",
        "# Interquartile range is gotten by subtracting Q1 from Q3\n",
        "\n",
        "Q1 = finance_clean[\"household_size\"].quantile(0.25)\n",
        "Q3 = finance_clean[\"household_size\"].quantile(0.75)\n",
        "\n",
        "Q3 - Q1"
      ],
      "execution_count": 0,
      "outputs": [
        {
          "output_type": "execute_result",
          "data": {
            "text/plain": [
              "3.0"
            ]
          },
          "metadata": {
            "tags": []
          },
          "execution_count": 47
        }
      ]
    },
    {
      "cell_type": "code",
      "metadata": {
        "id": "i986cfFL05jS",
        "colab_type": "code",
        "outputId": "81fdc9a6-4b27-42fb-d129-2999044d7788",
        "colab": {
          "base_uri": "https://localhost:8080/",
          "height": 34
        }
      },
      "source": [
        "# Find Quartile 1 (Q1) and Quartile 3 (Q3) of Respondent Age\n",
        "# Interquartile range is gotten by subtracting Q1 from Q3\n",
        "\n",
        "Q1 = finance_clean[\"Respondent Age\"].quantile(0.25)\n",
        "Q3 = finance_clean[\"Respondent Age\"].quantile(0.75)\n",
        "\n",
        "Q3 - Q1"
      ],
      "execution_count": 0,
      "outputs": [
        {
          "output_type": "execute_result",
          "data": {
            "text/plain": [
              "22.0"
            ]
          },
          "metadata": {
            "tags": []
          },
          "execution_count": 48
        }
      ]
    },
    {
      "cell_type": "markdown",
      "metadata": {
        "id": "vRt_jtK2AI1h",
        "colab_type": "text"
      },
      "source": [
        "##### Skewness"
      ]
    },
    {
      "cell_type": "code",
      "metadata": {
        "id": "5EBcE3Z42W1I",
        "colab_type": "code",
        "outputId": "75977c86-e772-4a16-bbb2-9d19a7d4c1c7",
        "colab": {
          "base_uri": "https://localhost:8080/",
          "height": 34
        }
      },
      "source": [
        "# Determine the Skewness\n",
        "# This shows the unevenness in a normal distribution in a set of data\n",
        "\n",
        "finance_clean[\"year\"].skew()\n",
        "\n",
        "# Since the value is very close to 0, it shows that the distribution is approximately symmetric "
      ],
      "execution_count": 0,
      "outputs": [
        {
          "output_type": "execute_result",
          "data": {
            "text/plain": [
              "0.06035122899784449"
            ]
          },
          "metadata": {
            "tags": []
          },
          "execution_count": 49
        }
      ]
    },
    {
      "cell_type": "code",
      "metadata": {
        "id": "0bhFwf5D2duL",
        "colab_type": "code",
        "outputId": "81de4288-189f-48ef-815d-2f8498b5d5fc",
        "colab": {
          "base_uri": "https://localhost:8080/",
          "height": 34
        }
      },
      "source": [
        "finance_clean[\"household_size\"].skew()\n",
        "\n",
        "# Since the value is positive, it shows that the distribution is moderately skewed to the rigt and thus the mean is\n",
        "# greater than the mode"
      ],
      "execution_count": 0,
      "outputs": [
        {
          "output_type": "execute_result",
          "data": {
            "text/plain": [
              "0.6058745818063943"
            ]
          },
          "metadata": {
            "tags": []
          },
          "execution_count": 50
        }
      ]
    },
    {
      "cell_type": "code",
      "metadata": {
        "id": "wcQpMVSA2f4l",
        "colab_type": "code",
        "outputId": "1c837657-9d98-4881-cd2f-d0b798d6f702",
        "colab": {
          "base_uri": "https://localhost:8080/",
          "height": 34
        }
      },
      "source": [
        "finance_clean[\"Respondent Age\"].skew()\n",
        "\n",
        "# Since the value is positive, it shows that the distribution is moderately skewed to the rigt and thus the mean is\n",
        "# greater than the mode"
      ],
      "execution_count": 0,
      "outputs": [
        {
          "output_type": "execute_result",
          "data": {
            "text/plain": [
              "0.7402138281724044"
            ]
          },
          "metadata": {
            "tags": []
          },
          "execution_count": 51
        }
      ]
    },
    {
      "cell_type": "markdown",
      "metadata": {
        "id": "4txgbQhpAL-i",
        "colab_type": "text"
      },
      "source": [
        "##### Kurtosis"
      ]
    },
    {
      "cell_type": "code",
      "metadata": {
        "id": "deoIpAaI2pgy",
        "colab_type": "code",
        "outputId": "c6f93582-9d2a-4805-9b8a-e9e5243b6233",
        "colab": {
          "base_uri": "https://localhost:8080/"
        }
      },
      "source": [
        "# Determine the kurtosis\n",
        "# Kurtosis checks whether the data is heavy tailed or light tailed and thus indicates the existence of outliers\n",
        "\n",
        "finance_clean[\"year\"].kurt()\n",
        "\n",
        "# Since the kurtosis is less than 0, it shows that the distribution is light tailed (lack of outliers)"
      ],
      "execution_count": 0,
      "outputs": [
        {
          "output_type": "execute_result",
          "data": {
            "text/plain": [
              "-1.6014658084675666"
            ]
          },
          "metadata": {
            "tags": []
          },
          "execution_count": 100
        }
      ]
    },
    {
      "cell_type": "code",
      "metadata": {
        "id": "DwUWM8v721GE",
        "colab_type": "code",
        "outputId": "e6cf39cd-458d-4c02-e874-005f8351887e",
        "colab": {
          "base_uri": "https://localhost:8080/"
        }
      },
      "source": [
        "finance_clean[\"household_size\"].kurt()\n",
        "\n",
        "# Since the kurtosis is close to 0, it shows that the distribution is normal"
      ],
      "execution_count": 0,
      "outputs": [
        {
          "output_type": "execute_result",
          "data": {
            "text/plain": [
              "-0.5055780598336774"
            ]
          },
          "metadata": {
            "tags": []
          },
          "execution_count": 102
        }
      ]
    },
    {
      "cell_type": "code",
      "metadata": {
        "id": "UxXXJO89227g",
        "colab_type": "code",
        "outputId": "5d68deb7-70c1-43cf-b156-bf281b9bb54b",
        "colab": {
          "base_uri": "https://localhost:8080/"
        }
      },
      "source": [
        "finance_clean[\"Respondent Age\"].kurt()\n",
        "\n",
        "# Since the kurtosis is close to 0, it shows that the distribution is normal"
      ],
      "execution_count": 0,
      "outputs": [
        {
          "output_type": "execute_result",
          "data": {
            "text/plain": [
              "-0.23749387799691757"
            ]
          },
          "metadata": {
            "tags": []
          },
          "execution_count": 103
        }
      ]
    },
    {
      "cell_type": "markdown",
      "metadata": {
        "id": "6QZsiS0RASXC",
        "colab_type": "text"
      },
      "source": [
        "#### iii) Visualizations"
      ]
    },
    {
      "cell_type": "markdown",
      "metadata": {
        "id": "sqdmoc3-A_PX",
        "colab_type": "text"
      },
      "source": [
        "##### Frequency Tables"
      ]
    },
    {
      "cell_type": "code",
      "metadata": {
        "id": "a9I4u0nCAUyH",
        "colab_type": "code",
        "outputId": "06ca67f8-70f7-436e-b7b8-a8cb56a79d36",
        "colab": {
          "base_uri": "https://localhost:8080/",
          "height": 102
        }
      },
      "source": [
        "# Frequency table of the column country\n",
        "\n",
        "finance_clean.country.value_counts()"
      ],
      "execution_count": 0,
      "outputs": [
        {
          "output_type": "execute_result",
          "data": {
            "text/plain": [
              "Rwanda      8512\n",
              "Tanzania    6424\n",
              "Kenya       5868\n",
              "Uganda      1921\n",
              "Name: country, dtype: int64"
            ]
          },
          "metadata": {
            "tags": []
          },
          "execution_count": 52
        }
      ]
    },
    {
      "cell_type": "code",
      "metadata": {
        "id": "MtHi_58bCYxN",
        "colab_type": "code",
        "outputId": "7149c904-2dc5-4ef8-86ef-5b1519e9fdfc",
        "colab": {
          "base_uri": "https://localhost:8080/",
          "height": 221
        }
      },
      "source": [
        "# Frequency table of the column uniqueid\n",
        "\n",
        "finance_clean.uniqueid.value_counts()"
      ],
      "execution_count": 0,
      "outputs": [
        {
          "output_type": "execute_result",
          "data": {
            "text/plain": [
              "uniqueid_205     4\n",
              "uniqueid_1479    4\n",
              "uniqueid_406     4\n",
              "uniqueid_517     4\n",
              "uniqueid_18      4\n",
              "                ..\n",
              "uniqueid_8276    1\n",
              "uniqueid_8356    1\n",
              "uniqueid_7560    1\n",
              "uniqueid_7044    1\n",
              "uniqueid_7018    1\n",
              "Name: uniqueid, Length: 8645, dtype: int64"
            ]
          },
          "metadata": {
            "tags": []
          },
          "execution_count": 53
        }
      ]
    },
    {
      "cell_type": "code",
      "metadata": {
        "id": "99CkBV03Chjq",
        "colab_type": "code",
        "outputId": "edfb4a29-48ed-4d96-cc48-e6905b3db08c",
        "colab": {
          "base_uri": "https://localhost:8080/",
          "height": 68
        }
      },
      "source": [
        "# Frequency table of the column Has a Bank account\n",
        "\n",
        "finance_clean[\"Has a Bank account\"].value_counts()"
      ],
      "execution_count": 0,
      "outputs": [
        {
          "output_type": "execute_result",
          "data": {
            "text/plain": [
              "No     19490\n",
              "Yes     3235\n",
              "Name: Has a Bank account, dtype: int64"
            ]
          },
          "metadata": {
            "tags": []
          },
          "execution_count": 54
        }
      ]
    },
    {
      "cell_type": "code",
      "metadata": {
        "id": "juQYYA6ODCB8",
        "colab_type": "code",
        "outputId": "5d5c05eb-f68b-4180-b76d-b6cb55abcf6a",
        "colab": {
          "base_uri": "https://localhost:8080/",
          "height": 68
        }
      },
      "source": [
        "# Frequency table of column Type of Location\n",
        "\n",
        "finance_clean[\"Type of Location\"].value_counts()"
      ],
      "execution_count": 0,
      "outputs": [
        {
          "output_type": "execute_result",
          "data": {
            "text/plain": [
              "Rural    13810\n",
              "Urban     8915\n",
              "Name: Type of Location, dtype: int64"
            ]
          },
          "metadata": {
            "tags": []
          },
          "execution_count": 55
        }
      ]
    },
    {
      "cell_type": "code",
      "metadata": {
        "id": "u3yTKOztDZ7D",
        "colab_type": "code",
        "outputId": "cb5fe650-69ee-47ed-8b8d-71c6a545319e",
        "colab": {
          "base_uri": "https://localhost:8080/",
          "height": 68
        }
      },
      "source": [
        "# Frequency table of column Cell Phone Access\n",
        "\n",
        "finance_clean[\"Cell Phone Access\"].value_counts()"
      ],
      "execution_count": 0,
      "outputs": [
        {
          "output_type": "execute_result",
          "data": {
            "text/plain": [
              "Yes    16985\n",
              "No      5740\n",
              "Name: Cell Phone Access, dtype: int64"
            ]
          },
          "metadata": {
            "tags": []
          },
          "execution_count": 56
        }
      ]
    },
    {
      "cell_type": "code",
      "metadata": {
        "id": "Plu0nTIIDuN4",
        "colab_type": "code",
        "outputId": "26dbdc88-37af-47b2-f559-80307b52424b",
        "colab": {
          "base_uri": "https://localhost:8080/",
          "height": 68
        }
      },
      "source": [
        "# Frequency table of column gender_of_respondent\n",
        "\n",
        "finance_clean[\"gender_of_respondent\"].value_counts()"
      ],
      "execution_count": 0,
      "outputs": [
        {
          "output_type": "execute_result",
          "data": {
            "text/plain": [
              "Female    13397\n",
              "Male       9328\n",
              "Name: gender_of_respondent, dtype: int64"
            ]
          },
          "metadata": {
            "tags": []
          },
          "execution_count": 57
        }
      ]
    },
    {
      "cell_type": "code",
      "metadata": {
        "id": "tMV1GNzED3KL",
        "colab_type": "code",
        "outputId": "c45920a4-c9ed-4917-90ab-0ffe88712c97",
        "colab": {
          "base_uri": "https://localhost:8080/",
          "height": 136
        }
      },
      "source": [
        "# Frequency table of column The relathip with head\n",
        "\n",
        "finance_clean[\"The relathip with head\"].value_counts()"
      ],
      "execution_count": 0,
      "outputs": [
        {
          "output_type": "execute_result",
          "data": {
            "text/plain": [
              "Head of Household      12402\n",
              "Spouse                  6361\n",
              "Child                   2131\n",
              "Parent                  1011\n",
              "Other relative           640\n",
              "Other non-relatives      180\n",
              "Name: The relathip with head, dtype: int64"
            ]
          },
          "metadata": {
            "tags": []
          },
          "execution_count": 58
        }
      ]
    },
    {
      "cell_type": "code",
      "metadata": {
        "id": "dLakO6RLEDl7",
        "colab_type": "code",
        "outputId": "9e22e14a-dff6-4228-b77b-92ae9157b654",
        "colab": {
          "base_uri": "https://localhost:8080/",
          "height": 119
        }
      },
      "source": [
        "# Frequency table of column marital_status\n",
        "\n",
        "finance_clean[\"marital_status\"].value_counts()"
      ],
      "execution_count": 0,
      "outputs": [
        {
          "output_type": "execute_result",
          "data": {
            "text/plain": [
              "Married/Living together    10431\n",
              "Single/Never Married        7748\n",
              "Widowed                     2509\n",
              "Divorced/Seperated          2029\n",
              "Dont know                      8\n",
              "Name: marital_status, dtype: int64"
            ]
          },
          "metadata": {
            "tags": []
          },
          "execution_count": 59
        }
      ]
    },
    {
      "cell_type": "code",
      "metadata": {
        "id": "__Vtc8zpEKxD",
        "colab_type": "code",
        "outputId": "ff2fec40-2891-4377-c83b-bd0394920ba3",
        "colab": {
          "base_uri": "https://localhost:8080/",
          "height": 153
        }
      },
      "source": [
        "# Frequency table of column Level of Educuation\n",
        "\n",
        "finance_clean[\"Level of Educuation\"].value_counts()"
      ],
      "execution_count": 0,
      "outputs": [
        {
          "output_type": "execute_result",
          "data": {
            "text/plain": [
              "Primary education                  12443\n",
              "No formal education                 4232\n",
              "Secondary education                 4100\n",
              "Tertiary education                  1134\n",
              "Vocational/Specialised training      785\n",
              "6                                     25\n",
              "Other/Dont know/RTA                    6\n",
              "Name: Level of Educuation, dtype: int64"
            ]
          },
          "metadata": {
            "tags": []
          },
          "execution_count": 60
        }
      ]
    },
    {
      "cell_type": "code",
      "metadata": {
        "id": "Sltpcst_EXMa",
        "colab_type": "code",
        "outputId": "e84dde28-587c-4171-bd7c-7156171b0c11",
        "colab": {
          "base_uri": "https://localhost:8080/",
          "height": 204
        }
      },
      "source": [
        "# Frequency table of column Type of Job\n",
        "\n",
        "finance_clean[\"Type of Job\"].value_counts()"
      ],
      "execution_count": 0,
      "outputs": [
        {
          "output_type": "execute_result",
          "data": {
            "text/plain": [
              "Self employed                   6209\n",
              "Informally employed             5490\n",
              "Farming and Fishing             5296\n",
              "Remittance Dependent            2375\n",
              "Formally employed Private       1035\n",
              "Other Income                    1026\n",
              "No Income                        585\n",
              "Formally employed Government     382\n",
              "Government Dependent             209\n",
              "Dont Know/Refuse to answer       118\n",
              "Name: Type of Job, dtype: int64"
            ]
          },
          "metadata": {
            "tags": []
          },
          "execution_count": 61
        }
      ]
    },
    {
      "cell_type": "markdown",
      "metadata": {
        "id": "401Ev5QnEj0l",
        "colab_type": "text"
      },
      "source": [
        "##### Bar charts"
      ]
    },
    {
      "cell_type": "code",
      "metadata": {
        "id": "muZcIvkIEl6v",
        "colab_type": "code",
        "outputId": "8d2e394e-ba81-4052-bfc9-40e1a401c402",
        "colab": {
          "base_uri": "https://localhost:8080/",
          "height": 404
        }
      },
      "source": [
        "# Bar chart of the column country\n",
        "\n",
        "finance_clean.country.value_counts().plot(kind='bar', figsize=(7, 6), rot = 0, color = 'green')\n",
        "\n",
        "# Labelling our x axis\n",
        "plt.xlabel(\"Country\")\n",
        "\n",
        "# Labelling our y axis\n",
        "plt.ylabel(\"No. of Respondents\")\n",
        "\n",
        "# Giving a title to our Bar chart\n",
        "plt.title(\"Number of Respondents From the 4 Countries\")\n",
        "\n",
        "# Displaying our chart\n",
        "plt.show()"
      ],
      "execution_count": 0,
      "outputs": [
        {
          "output_type": "display_data",
          "data": {
            "image/png": "[encoded data removed]",
            "text/plain": [
              "<Figure size 504x432 with 1 Axes>"
            ]
          },
          "metadata": {
            "tags": [],
            "needs_background": "light"
          }
        }
      ]
    },
    {
      "cell_type": "code",
      "metadata": {
        "id": "DR2_kjbGGiTx",
        "colab_type": "code",
        "outputId": "920d96e9-5937-4e09-9538-145a7f1ce5f7",
        "colab": {
          "base_uri": "https://localhost:8080/",
          "height": 404
        }
      },
      "source": [
        "# Bar chart of the column Has a bank account\n",
        "\n",
        "finance_clean[\"Has a Bank account\"].value_counts().plot(kind='bar', figsize=(7, 6), rot = 0, color = 'yellow')\n",
        "\n",
        "\n",
        "# Labelling our x axis\n",
        "plt.xlabel(\"Access to bank account\")\n",
        "\n",
        "# Labelling our y axis\n",
        "plt.ylabel(\"Number of respondents\")\n",
        "\n",
        "# Giving a title to our Bar chart\n",
        "plt.title(\"Number of People With/Without Access to a Bank Account\")\n",
        "\n",
        "# Displaying our chart\n",
        "plt.show()\n"
      ],
      "execution_count": 0,
      "outputs": [
        {
          "output_type": "display_data",
          "data": {
            "image/png": "[encoded data removed]",
            "text/plain": [
              "<Figure size 504x432 with 1 Axes>"
            ]
          },
          "metadata": {
            "tags": [],
            "needs_background": "light"
          }
        }
      ]
    },
    {
      "cell_type": "code",
      "metadata": {
        "id": "n8IJWm03Mmav",
        "colab_type": "code",
        "outputId": "4c2f9772-2fe9-42a7-aabe-52555d6dba6e",
        "colab": {
          "base_uri": "https://localhost:8080/",
          "height": 404
        }
      },
      "source": [
        "# Bar chart of the column Has a bank account\n",
        "\n",
        "finance_clean[\"Type of Location\"].value_counts().plot(kind='bar', figsize=(7, 6), rot = 0, color = 'red')\n",
        "\n",
        "# Labelling our x axis\n",
        "plt.xlabel(\"Type of Location\")\n",
        "\n",
        "# Labelling our y axis\n",
        "plt.ylabel(\"Number of respondents\")\n",
        "\n",
        "# Giving a title to our Bar chart\n",
        "plt.title(\"Number of Respondents In Each Type of Location\")\n",
        "\n",
        "# Displaying our chart\n",
        "plt.show()"
      ],
      "execution_count": 0,
      "outputs": [
        {
          "output_type": "display_data",
          "data": {
            "image/png": "[encoded data removed]",
            "text/plain": [
              "<Figure size 504x432 with 1 Axes>"
            ]
          },
          "metadata": {
            "tags": [],
            "needs_background": "light"
          }
        }
      ]
    },
    {
      "cell_type": "code",
      "metadata": {
        "id": "9ACT1hkgNRNz",
        "colab_type": "code",
        "outputId": "0243ffb7-5c9f-470b-e128-d4b7705503c3",
        "colab": {
          "base_uri": "https://localhost:8080/",
          "height": 404
        }
      },
      "source": [
        "# Bar chart of the column Cell phone access\n",
        "\n",
        "finance_clean[\"Cell Phone Access\"].value_counts().plot(kind='bar', figsize=(7, 6), rot = 0, color = 'black')\n",
        "\n",
        "# Labelling our x axis\n",
        "plt.xlabel(\"Access to a cell phone\")\n",
        "\n",
        "# Labelling our y axis\n",
        "plt.ylabel(\"Number of respondents\")\n",
        "\n",
        "# Giving a title to our Bar chart\n",
        "plt.title(\"Number of Respondents With Access to a Cell Phone\")\n",
        "\n",
        "# Displaying our chart\n",
        "plt.show()"
      ],
      "execution_count": 0,
      "outputs": [
        {
          "output_type": "display_data",
          "data": {
            "image/png": "[encoded data removed]",
            "text/plain": [
              "<Figure size 504x432 with 1 Axes>"
            ]
          },
          "metadata": {
            "tags": [],
            "needs_background": "light"
          }
        }
      ]
    },
    {
      "cell_type": "code",
      "metadata": {
        "id": "wvOYu6Y-N3Oz",
        "colab_type": "code",
        "outputId": "640f82ac-0fde-45b7-ef32-8712e910ed25",
        "colab": {
          "base_uri": "https://localhost:8080/",
          "height": 431
        }
      },
      "source": [
        "# Bar chart of the column gender_of_respondent\n",
        "\n",
        "finance_clean[\"gender_of_respondent\"].value_counts().plot(kind='bar', figsize=(7, 6), rot=70, color = 'magenta')\n",
        "\n",
        "# Labelling our x axis\n",
        "plt.xlabel(\"Gender\")\n",
        "\n",
        "# Labelling our y axis\n",
        "plt.ylabel(\"Number of respondents\")\n",
        "\n",
        "# Giving a title to our Bar chart\n",
        "plt.title(\"Gender of the Respondents\")\n",
        "\n",
        "# Displaying our chart\n",
        "plt.show()"
      ],
      "execution_count": 0,
      "outputs": [
        {
          "output_type": "display_data",
          "data": {
            "image/png": "[encoded data removed]",
            "text/plain": [
              "<Figure size 504x432 with 1 Axes>"
            ]
          },
          "metadata": {
            "tags": [],
            "needs_background": "light"
          }
        }
      ]
    },
    {
      "cell_type": "code",
      "metadata": {
        "id": "FlNjZp7UOlSR",
        "colab_type": "code",
        "outputId": "c7ca27dc-8e3f-445c-e8d1-69af835df05f",
        "colab": {
          "base_uri": "https://localhost:8080/",
          "height": 504
        }
      },
      "source": [
        "# Bar chart of the column Relathip with head\n",
        "\n",
        "finance_clean[\"The relathip with head\"].value_counts().plot(kind='bar', figsize=(7, 6), rot=70, color = 'purple')\n",
        "\n",
        "# Labelling our x axis\n",
        "plt.xlabel(\"Relationship with head\", labelpad = 20)\n",
        "\n",
        "# Labelling our y axis\n",
        "plt.ylabel(\"Number of respondents\")\n",
        "\n",
        "# Giving a title to our Bar chart\n",
        "plt.title(\"Respondents Relationship to the Head of the Household\")\n",
        "\n",
        "# Displaying our chart\n",
        "plt.show()"
      ],
      "execution_count": 0,
      "outputs": [
        {
          "output_type": "display_data",
          "data": {
            "image/png": "[encoded data removed]",
            "text/plain": [
              "<Figure size 504x432 with 1 Axes>"
            ]
          },
          "metadata": {
            "tags": [],
            "needs_background": "light"
          }
        }
      ]
    },
    {
      "cell_type": "code",
      "metadata": {
        "id": "6N7IAxVAPrh_",
        "colab_type": "code",
        "outputId": "6e0aa174-eeea-48ee-af10-a913e851b98a",
        "colab": {
          "base_uri": "https://localhost:8080/",
          "height": 524
        }
      },
      "source": [
        "# Bar chart of the column marital_status\n",
        "\n",
        "finance_clean[\"marital_status\"].value_counts().plot(kind='bar', figsize=(7, 6), rot=70)\n",
        "\n",
        "# Labelling our x axis\n",
        "plt.xlabel(\"Marital status\", labelpad = 20)\n",
        "\n",
        "# Labelling our y axis\n",
        "plt.ylabel(\"Number of respondents\")\n",
        "\n",
        "# Giving a title to our Bar chart\n",
        "plt.title(\"Respondents Marital Status\")\n",
        "\n",
        "# Displaying our chart\n",
        "plt.show()\n"
      ],
      "execution_count": 0,
      "outputs": [
        {
          "output_type": "display_data",
          "data": {
            "image/png": "[encoded data removed]",
            "text/plain": [
              "<Figure size 504x432 with 1 Axes>"
            ]
          },
          "metadata": {
            "tags": [],
            "needs_background": "light"
          }
        }
      ]
    },
    {
      "cell_type": "code",
      "metadata": {
        "id": "prkkRwAjQzJz",
        "colab_type": "code",
        "outputId": "dea4e3de-2b76-418f-d9ae-315589112d83",
        "colab": {
          "base_uri": "https://localhost:8080/",
          "height": 558
        }
      },
      "source": [
        "# Bar chart of the column Level of Education\n",
        "\n",
        "finance_clean[\"Level of Educuation\"].value_counts().plot(kind='bar', figsize=(7, 6), rot=70, color = 'pink')\n",
        "\n",
        "# Labelling our x axis\n",
        "plt.xlabel(\"Level of Education\", labelpad = 20)\n",
        "\n",
        "# Labelling our y axis\n",
        "plt.ylabel(\"Number of respondents\")\n",
        "\n",
        "# Giving a title to our Bar chart\n",
        "plt.title(\"Respondents Level of Education\")\n",
        "\n",
        "# Displaying our chart\n",
        "plt.show()\n"
      ],
      "execution_count": 0,
      "outputs": [
        {
          "output_type": "display_data",
          "data": {
            "image/png": "[encoded data removed]",
            "text/plain": [
              "<Figure size 504x432 with 1 Axes>"
            ]
          },
          "metadata": {
            "tags": [],
            "needs_background": "light"
          }
        }
      ]
    },
    {
      "cell_type": "code",
      "metadata": {
        "id": "bfDPyKDTS2AX",
        "colab_type": "code",
        "outputId": "8002c1fa-89bc-4197-fb82-93e10b5c7958",
        "colab": {
          "base_uri": "https://localhost:8080/",
          "height": 570
        }
      },
      "source": [
        "# Bar chart of the column Type of Job\n",
        "\n",
        "finance_clean[\"Type of Job\"].value_counts().plot(kind='bar', figsize=(7, 6), rot=80, color = 'teal')\n",
        "\n",
        "# Labelling our x axis\n",
        "plt.xlabel(\"Type of Job\", labelpad = 20)\n",
        "\n",
        "# Labelling our y axis\n",
        "plt.ylabel(\"Number of respondents\")\n",
        "\n",
        "# Giving a title to our Bar chart\n",
        "plt.title(\"Types of Job Respondents Hold\")\n",
        "\n",
        "# Displaying our chart\n",
        "plt.show()"
      ],
      "execution_count": 0,
      "outputs": [
        {
          "output_type": "display_data",
          "data": {
            "image/png": "[encoded data removed]",
            "text/plain": [
              "<Figure size 504x432 with 1 Axes>"
            ]
          },
          "metadata": {
            "tags": [],
            "needs_background": "light"
          }
        }
      ]
    },
    {
      "cell_type": "markdown",
      "metadata": {
        "id": "TomazP-AV9Y5",
        "colab_type": "text"
      },
      "source": [
        "##### Histograms"
      ]
    },
    {
      "cell_type": "code",
      "metadata": {
        "id": "IPICXH8ZWzJJ",
        "colab_type": "code",
        "outputId": "32856ac1-815b-4ada-fb9c-f5fa8203bc14",
        "colab": {
          "base_uri": "https://localhost:8080/",
          "height": 317
        }
      },
      "source": [
        "# Histogram of the column year\n",
        "\n",
        "\n",
        "finance_clean['year'].hist(grid=False)\n",
        "plt.title(\"No of respondents per year\")\n",
        "plt.xlabel(\"Year\", fontsize=15)\n",
        "plt.ylabel(\"No. of respondents\",fontsize=15)"
      ],
      "execution_count": 0,
      "outputs": [
        {
          "output_type": "execute_result",
          "data": {
            "text/plain": [
              "Text(0, 0.5, 'No. of respondents')"
            ]
          },
          "metadata": {
            "tags": []
          },
          "execution_count": 75
        },
        {
          "output_type": "display_data",
          "data": {
            "image/png": "[encoded data removed]",
            "text/plain": [
              "<Figure size 432x288 with 1 Axes>"
            ]
          },
          "metadata": {
            "tags": [],
            "needs_background": "light"
          }
        }
      ]
    },
    {
      "cell_type": "code",
      "metadata": {
        "id": "aYnlE8cEYK-s",
        "colab_type": "code",
        "outputId": "e7c96b5c-2091-4f5a-af25-a414ebdfb7a8",
        "colab": {
          "base_uri": "https://localhost:8080/",
          "height": 317
        }
      },
      "source": [
        "# Histogram of the column household_size\n",
        "\n",
        "finance_clean['household_size'].hist(grid=False)\n",
        "plt.title(\"Size of the households\")\n",
        "plt.xlabel(\"Household Size\", fontsize=15)\n",
        "plt.ylabel(\"No. of respondents\",fontsize=15)"
      ],
      "execution_count": 0,
      "outputs": [
        {
          "output_type": "execute_result",
          "data": {
            "text/plain": [
              "Text(0, 0.5, 'No. of respondents')"
            ]
          },
          "metadata": {
            "tags": []
          },
          "execution_count": 76
        },
        {
          "output_type": "display_data",
          "data": {
            "image/png": "[encoded data removed]",
            "text/plain": [
              "<Figure size 432x288 with 1 Axes>"
            ]
          },
          "metadata": {
            "tags": [],
            "needs_background": "light"
          }
        }
      ]
    },
    {
      "cell_type": "code",
      "metadata": {
        "id": "8UTyGQxfYcs2",
        "colab_type": "code",
        "outputId": "a79a2efc-a9d8-4563-880e-3a77c166c9a8",
        "colab": {
          "base_uri": "https://localhost:8080/",
          "height": 317
        }
      },
      "source": [
        "# Histogram of the column Respondent Age\n",
        "\n",
        "finance_clean['Respondent Age'].hist(grid=False)\n",
        "plt.title(\"Ages of the Respondents\")\n",
        "plt.xlabel(\"Respondent Age\", fontsize=15)\n",
        "plt.ylabel(\"Number of people\",fontsize=15)"
      ],
      "execution_count": 0,
      "outputs": [
        {
          "output_type": "execute_result",
          "data": {
            "text/plain": [
              "Text(0, 0.5, 'Number of people')"
            ]
          },
          "metadata": {
            "tags": []
          },
          "execution_count": 77
        },
        {
          "output_type": "display_data",
          "data": {
            "image/png": "[encoded data removed]",
            "text/plain": [
              "<Figure size 432x288 with 1 Axes>"
            ]
          },
          "metadata": {
            "tags": [],
            "needs_background": "light"
          }
        }
      ]
    },
    {
      "cell_type": "markdown",
      "metadata": {
        "id": "-J116yguYyXI",
        "colab_type": "text"
      },
      "source": [
        "##### Boxplots"
      ]
    },
    {
      "cell_type": "code",
      "metadata": {
        "id": "BBqFUTpBY045",
        "colab_type": "code",
        "outputId": "90b1ed46-e6f7-456c-ff44-e4420199942a",
        "colab": {
          "base_uri": "https://localhost:8080/",
          "height": 1000
        }
      },
      "source": [
        "# Boxplots of the columns year, household size and respondent age\n",
        "\n",
        "column_names = ['year', 'household_size', 'Respondent Age']\n",
        "fig, ax = plt.subplots(len(column_names), figsize=(7,20))\n",
        "\n",
        "for i, col_val in enumerate(column_names):\n",
        "  sns.boxplot(y = finance_clean[col_val], ax=ax[i])\n",
        "  ax[i].set_title('Boxplot - {}'.format(col_val), fontsize=10)\n",
        "  ax[i].set_xlabel(col_val, fontsize=8)\n",
        "\n",
        "plt.show()"
      ],
      "execution_count": 0,
      "outputs": [
        {
          "output_type": "display_data",
          "data": {
            "image/png": "[encoded data removed]",
            "text/plain": [
              "<Figure size 504x1440 with 3 Axes>"
            ]
          },
          "metadata": {
            "tags": [],
            "needs_background": "light"
          }
        }
      ]
    },
    {
      "cell_type": "markdown",
      "metadata": {
        "id": "ewOVUKmihQ83",
        "colab_type": "text"
      },
      "source": [
        "### b) Bivariate Analysis"
      ]
    },
    {
      "cell_type": "markdown",
      "metadata": {
        "id": "KUEtqwoQmG9v",
        "colab_type": "text"
      },
      "source": [
        "Bivariate analysis investigates the relationship among two variables and the strength of that relationship.\n",
        "\n",
        "Our dataset has both numerical and categorical variables.\n",
        "\n",
        "To compare 2 numerical variables, we'll use scatter plots then find their correlation.\n",
        "\n",
        "To compare 2 categorical variables, we can use a stacked column chart.\n",
        "\n",
        "To compare a categorical variable and a numerical variable, we can use line charts.\n",
        "\n"
      ]
    },
    {
      "cell_type": "markdown",
      "metadata": {
        "id": "SSeFH2pD2iGN",
        "colab_type": "text"
      },
      "source": [
        "#### Scatter Plots"
      ]
    },
    {
      "cell_type": "code",
      "metadata": {
        "id": "WM7QwZRFhSxk",
        "colab_type": "code",
        "outputId": "535df93a-0404-445a-ccf9-304100676066",
        "colab": {
          "base_uri": "https://localhost:8080/",
          "height": 675
        }
      },
      "source": [
        "# Plot scatter plots of the numerical variables\n",
        "# Scatter plots show how much one variable is affected by another\n",
        "\n",
        "new = finance_clean.drop(['Unnamed: 0'], axis=1)\n",
        "sns.pairplot(new, height = 3)\n",
        "plt.show()\n",
        "\n",
        "# From the scatter plots, we can see that there is a very weak relationship between the variables and a trend cannot be established."
      ],
      "execution_count": 0,
      "outputs": [
        {
          "output_type": "display_data",
          "data": {
            "image/png": "[encoded data removed]",
            "text/plain": [
              "<Figure size 648x648 with 12 Axes>"
            ]
          },
          "metadata": {
            "tags": [],
            "needs_background": "light"
          }
        }
      ]
    },
    {
      "cell_type": "markdown",
      "metadata": {
        "id": "13fRducP2a-O",
        "colab_type": "text"
      },
      "source": [
        "#### Correlation"
      ]
    },
    {
      "cell_type": "code",
      "metadata": {
        "id": "esnpiXf-2fXo",
        "colab_type": "code",
        "outputId": "1057f84f-7548-40bf-aa54-41720b2ecf92",
        "colab": {
          "base_uri": "https://localhost:8080/",
          "height": 505
        }
      },
      "source": [
        "# Find the correlation of the numerical variables\n",
        "\n",
        "f, ax = plt.subplots(figsize = (10,8))\n",
        "corr = new.corr()\n",
        "sns.heatmap(corr,\n",
        "            xticklabels=corr.columns.values,\n",
        "            yticklabels=corr.columns.values)"
      ],
      "execution_count": 0,
      "outputs": [
        {
          "output_type": "execute_result",
          "data": {
            "text/plain": [
              "<matplotlib.axes._subplots.AxesSubplot at 0x7fec8ce3dc88>"
            ]
          },
          "metadata": {
            "tags": []
          },
          "execution_count": 203
        },
        {
          "output_type": "display_data",
          "data": {
            "image/png": "[encoded data removed]",
            "text/plain": [
              "<Figure size 720x576 with 2 Axes>"
            ]
          },
          "metadata": {
            "tags": [],
            "needs_background": "light"
          }
        }
      ]
    },
    {
      "cell_type": "code",
      "metadata": {
        "id": "eEeHYxqC3Aw6",
        "colab_type": "code",
        "outputId": "b42082c2-99ee-4b95-d31d-cb2d1190b8ca",
        "colab": {
          "base_uri": "https://localhost:8080/",
          "height": 142
        }
      },
      "source": [
        "new.corr()"
      ],
      "execution_count": 0,
      "outputs": [
        {
          "output_type": "execute_result",
          "data": {
            "text/html": [
              "<div>\n",
              "<style scoped>\n",
              "    .dataframe tbody tr th:only-of-type {\n",
              "        vertical-align: middle;\n",
              "    }\n",
              "\n",
              "    .dataframe tbody tr th {\n",
              "        vertical-align: top;\n",
              "    }\n",
              "\n",
              "    .dataframe thead th {\n",
              "        text-align: right;\n",
              "    }\n",
              "</style>\n",
              "<table border=\"1\" class=\"dataframe\">\n",
              "  <thead>\n",
              "    <tr style=\"text-align: right;\">\n",
              "      <th></th>\n",
              "      <th>year</th>\n",
              "      <th>household_size</th>\n",
              "      <th>Respondent Age</th>\n",
              "    </tr>\n",
              "  </thead>\n",
              "  <tbody>\n",
              "    <tr>\n",
              "      <th>year</th>\n",
              "      <td>1.000000</td>\n",
              "      <td>-0.096684</td>\n",
              "      <td>-0.023538</td>\n",
              "    </tr>\n",
              "    <tr>\n",
              "      <th>household_size</th>\n",
              "      <td>-0.096684</td>\n",
              "      <td>1.000000</td>\n",
              "      <td>-0.106209</td>\n",
              "    </tr>\n",
              "    <tr>\n",
              "      <th>Respondent Age</th>\n",
              "      <td>-0.023538</td>\n",
              "      <td>-0.106209</td>\n",
              "      <td>1.000000</td>\n",
              "    </tr>\n",
              "  </tbody>\n",
              "</table>\n",
              "</div>"
            ],
            "text/plain": [
              "                    year  household_size  Respondent Age\n",
              "year            1.000000       -0.096684       -0.023538\n",
              "household_size -0.096684        1.000000       -0.106209\n",
              "Respondent Age -0.023538       -0.106209        1.000000"
            ]
          },
          "metadata": {
            "tags": []
          },
          "execution_count": 204
        }
      ]
    },
    {
      "cell_type": "code",
      "metadata": {
        "id": "o4GS2RXP3UJd",
        "colab_type": "code",
        "colab": {}
      },
      "source": [
        "# From the above, we can see the following:\n",
        "\n",
        "# Correlation between year and household size is -0.096. This shows that the two variables have a very\n",
        "# weak negative correlation\n",
        "\n",
        "# Correlation between year and Respondent Age is -0.0235. This shows that the two variables have a very\n",
        "# weak negative correlation\n",
        "\n",
        "# Correlation between household size and Respondent Age is -0.106. This shows that the two variables have a very\n",
        "# weak negative correlation\n"
      ],
      "execution_count": 0,
      "outputs": []
    },
    {
      "cell_type": "markdown",
      "metadata": {
        "id": "pcIEnpJm64NY",
        "colab_type": "text"
      },
      "source": [
        "### c) Multivariate Analysis"
      ]
    },
    {
      "cell_type": "markdown",
      "metadata": {
        "id": "AoMvUGHD83pW",
        "colab_type": "text"
      },
      "source": [
        "Multivariate analysis is performed on more complex datasets.\n",
        "\n",
        "For this research question, I'll use Principal Component Analaysis (PCA) to convert data from a high dimension to a lower dimension by selecting the most important features.\n",
        "\n",
        "Since most of the columns are categorical variables, I'll do one hot encoding of the categorical variables so that I can apply PCA on them and get (Prinicpal Component) PC1 and PC2 that I will use to plot and visualize the dataset."
      ]
    },
    {
      "cell_type": "code",
      "metadata": {
        "id": "7dBcZMkF9I7l",
        "colab_type": "code",
        "outputId": "da733111-0d60-46e8-af4e-684f7e51bbdf",
        "colab": {
          "base_uri": "https://localhost:8080/",
          "height": 419
        }
      },
      "source": [
        "from sklearn.decomposition import PCA\n",
        "pca = PCA(n_components=2)\n",
        "principalComponents = pca.fit_transform(x)\n",
        "principalfinance = pd.DataFrame(data = principalComponents\n",
        "             , columns = ['principal component 1', 'principal component 2'])\n",
        "principalfinance"
      ],
      "execution_count": 0,
      "outputs": [
        {
          "output_type": "execute_result",
          "data": {
            "text/html": [
              "<div>\n",
              "<style scoped>\n",
              "    .dataframe tbody tr th:only-of-type {\n",
              "        vertical-align: middle;\n",
              "    }\n",
              "\n",
              "    .dataframe tbody tr th {\n",
              "        vertical-align: top;\n",
              "    }\n",
              "\n",
              "    .dataframe thead th {\n",
              "        text-align: right;\n",
              "    }\n",
              "</style>\n",
              "<table border=\"1\" class=\"dataframe\">\n",
              "  <thead>\n",
              "    <tr style=\"text-align: right;\">\n",
              "      <th></th>\n",
              "      <th>principal component 1</th>\n",
              "      <th>principal component 2</th>\n",
              "    </tr>\n",
              "  </thead>\n",
              "  <tbody>\n",
              "    <tr>\n",
              "      <th>0</th>\n",
              "      <td>0.175479</td>\n",
              "      <td>-1.385604</td>\n",
              "    </tr>\n",
              "    <tr>\n",
              "      <th>1</th>\n",
              "      <td>0.626591</td>\n",
              "      <td>3.682105</td>\n",
              "    </tr>\n",
              "    <tr>\n",
              "      <th>2</th>\n",
              "      <td>0.001987</td>\n",
              "      <td>-2.388036</td>\n",
              "    </tr>\n",
              "    <tr>\n",
              "      <th>3</th>\n",
              "      <td>1.826662</td>\n",
              "      <td>-0.006147</td>\n",
              "    </tr>\n",
              "    <tr>\n",
              "      <th>4</th>\n",
              "      <td>0.675085</td>\n",
              "      <td>0.077413</td>\n",
              "    </tr>\n",
              "    <tr>\n",
              "      <th>...</th>\n",
              "      <td>...</td>\n",
              "      <td>...</td>\n",
              "    </tr>\n",
              "    <tr>\n",
              "      <th>22720</th>\n",
              "      <td>-1.354821</td>\n",
              "      <td>1.430178</td>\n",
              "    </tr>\n",
              "    <tr>\n",
              "      <th>22721</th>\n",
              "      <td>-0.292073</td>\n",
              "      <td>0.327467</td>\n",
              "    </tr>\n",
              "    <tr>\n",
              "      <th>22722</th>\n",
              "      <td>-1.049828</td>\n",
              "      <td>-0.692357</td>\n",
              "    </tr>\n",
              "    <tr>\n",
              "      <th>22723</th>\n",
              "      <td>-0.860935</td>\n",
              "      <td>-0.140152</td>\n",
              "    </tr>\n",
              "    <tr>\n",
              "      <th>22724</th>\n",
              "      <td>-1.078061</td>\n",
              "      <td>-2.534607</td>\n",
              "    </tr>\n",
              "  </tbody>\n",
              "</table>\n",
              "<p>22725 rows × 2 columns</p>\n",
              "</div>"
            ],
            "text/plain": [
              "       principal component 1  principal component 2\n",
              "0                   0.175479              -1.385604\n",
              "1                   0.626591               3.682105\n",
              "2                   0.001987              -2.388036\n",
              "3                   1.826662              -0.006147\n",
              "4                   0.675085               0.077413\n",
              "...                      ...                    ...\n",
              "22720              -1.354821               1.430178\n",
              "22721              -0.292073               0.327467\n",
              "22722              -1.049828              -0.692357\n",
              "22723              -0.860935              -0.140152\n",
              "22724              -1.078061              -2.534607\n",
              "\n",
              "[22725 rows x 2 columns]"
            ]
          },
          "metadata": {
            "tags": []
          },
          "execution_count": 41
        }
      ]
    },
    {
      "cell_type": "code",
      "metadata": {
        "id": "rd28jTrz9RXo",
        "colab_type": "code",
        "outputId": "6a4c09a8-be28-4e5b-a035-4bd29caa92f4",
        "colab": {
          "base_uri": "https://localhost:8080/",
          "height": 419
        }
      },
      "source": [
        "finalfinance = pd.concat([principalfinance, finance[['Has a Bank account']]], axis = 1)\n",
        "finalfinance"
      ],
      "execution_count": 0,
      "outputs": [
        {
          "output_type": "execute_result",
          "data": {
            "text/html": [
              "<div>\n",
              "<style scoped>\n",
              "    .dataframe tbody tr th:only-of-type {\n",
              "        vertical-align: middle;\n",
              "    }\n",
              "\n",
              "    .dataframe tbody tr th {\n",
              "        vertical-align: top;\n",
              "    }\n",
              "\n",
              "    .dataframe thead th {\n",
              "        text-align: right;\n",
              "    }\n",
              "</style>\n",
              "<table border=\"1\" class=\"dataframe\">\n",
              "  <thead>\n",
              "    <tr style=\"text-align: right;\">\n",
              "      <th></th>\n",
              "      <th>principal component 1</th>\n",
              "      <th>principal component 2</th>\n",
              "      <th>Has a Bank account</th>\n",
              "    </tr>\n",
              "  </thead>\n",
              "  <tbody>\n",
              "    <tr>\n",
              "      <th>0</th>\n",
              "      <td>0.175479</td>\n",
              "      <td>-1.385604</td>\n",
              "      <td>Yes</td>\n",
              "    </tr>\n",
              "    <tr>\n",
              "      <th>1</th>\n",
              "      <td>0.626591</td>\n",
              "      <td>3.682105</td>\n",
              "      <td>No</td>\n",
              "    </tr>\n",
              "    <tr>\n",
              "      <th>2</th>\n",
              "      <td>0.001987</td>\n",
              "      <td>-2.388036</td>\n",
              "      <td>Yes</td>\n",
              "    </tr>\n",
              "    <tr>\n",
              "      <th>3</th>\n",
              "      <td>1.826662</td>\n",
              "      <td>-0.006147</td>\n",
              "      <td>No</td>\n",
              "    </tr>\n",
              "    <tr>\n",
              "      <th>4</th>\n",
              "      <td>0.675085</td>\n",
              "      <td>0.077413</td>\n",
              "      <td>No</td>\n",
              "    </tr>\n",
              "    <tr>\n",
              "      <th>...</th>\n",
              "      <td>...</td>\n",
              "      <td>...</td>\n",
              "      <td>...</td>\n",
              "    </tr>\n",
              "    <tr>\n",
              "      <th>23519</th>\n",
              "      <td>NaN</td>\n",
              "      <td>NaN</td>\n",
              "      <td>No</td>\n",
              "    </tr>\n",
              "    <tr>\n",
              "      <th>23520</th>\n",
              "      <td>NaN</td>\n",
              "      <td>NaN</td>\n",
              "      <td>No</td>\n",
              "    </tr>\n",
              "    <tr>\n",
              "      <th>23521</th>\n",
              "      <td>NaN</td>\n",
              "      <td>NaN</td>\n",
              "      <td>No</td>\n",
              "    </tr>\n",
              "    <tr>\n",
              "      <th>23522</th>\n",
              "      <td>NaN</td>\n",
              "      <td>NaN</td>\n",
              "      <td>No</td>\n",
              "    </tr>\n",
              "    <tr>\n",
              "      <th>23523</th>\n",
              "      <td>NaN</td>\n",
              "      <td>NaN</td>\n",
              "      <td>No</td>\n",
              "    </tr>\n",
              "  </tbody>\n",
              "</table>\n",
              "<p>23518 rows × 3 columns</p>\n",
              "</div>"
            ],
            "text/plain": [
              "       principal component 1  principal component 2 Has a Bank account\n",
              "0                   0.175479              -1.385604                Yes\n",
              "1                   0.626591               3.682105                 No\n",
              "2                   0.001987              -2.388036                Yes\n",
              "3                   1.826662              -0.006147                 No\n",
              "4                   0.675085               0.077413                 No\n",
              "...                      ...                    ...                ...\n",
              "23519                    NaN                    NaN                 No\n",
              "23520                    NaN                    NaN                 No\n",
              "23521                    NaN                    NaN                 No\n",
              "23522                    NaN                    NaN                 No\n",
              "23523                    NaN                    NaN                 No\n",
              "\n",
              "[23518 rows x 3 columns]"
            ]
          },
          "metadata": {
            "tags": []
          },
          "execution_count": 42
        }
      ]
    },
    {
      "cell_type": "code",
      "metadata": {
        "id": "i_-NUiU19WWE",
        "colab_type": "code",
        "colab": {}
      },
      "source": [
        "finalfinance.columns = ['principal component 1','principal component 2','account']"
      ],
      "execution_count": 0,
      "outputs": []
    },
    {
      "cell_type": "code",
      "metadata": {
        "id": "yWWuVft99bBC",
        "colab_type": "code",
        "outputId": "12ac8294-c25b-4427-8167-cb2ce3cb87c8",
        "colab": {
          "base_uri": "https://localhost:8080/",
          "height": 523
        }
      },
      "source": [
        "fig = plt.figure(figsize = (12,8))\n",
        "ax = fig.add_subplot(1,1,1) \n",
        "ax.set_xlabel('Principal Component 1', fontsize = 15)\n",
        "ax.set_ylabel('Principal Component 2', fontsize = 15)\n",
        "ax.set_title('2 component PCA', fontsize = 20)\n",
        "accounts = ['Yes', 'No']\n",
        "colors = ['r', 'g']\n",
        "for account, color in zip(accounts,colors):\n",
        "    indicesToKeep = finalfinance['account'] == account\n",
        "    ax.scatter(finalfinance.loc[indicesToKeep, 'principal component 1']\n",
        "               , finalfinance.loc[indicesToKeep, 'principal component 2']\n",
        "               , c = color\n",
        "               , s = 50)\n",
        "ax.legend(accounts)\n",
        "ax.grid()"
      ],
      "execution_count": 0,
      "outputs": [
        {
          "output_type": "display_data",
          "data": {
            "image/png": "[encoded data removed]",
            "text/plain": [
              "<Figure size 864x576 with 1 Axes>"
            ]
          },
          "metadata": {
            "tags": [],
            "needs_background": "light"
          }
        }
      ]
    },
    {
      "cell_type": "code",
      "metadata": {
        "id": "-Z5-Nd-E9b1W",
        "colab_type": "code",
        "outputId": "bbb29e2f-bfb8-4f34-8e71-f75a1d2c1ffc",
        "colab": {
          "base_uri": "https://localhost:8080/",
          "height": 34
        }
      },
      "source": [
        "pca.explained_variance_ratio_"
      ],
      "execution_count": 0,
      "outputs": [
        {
          "output_type": "execute_result",
          "data": {
            "text/plain": [
              "array([0.19268482, 0.16058479])"
            ]
          },
          "metadata": {
            "tags": []
          },
          "execution_count": 46
        }
      ]
    },
    {
      "cell_type": "code",
      "metadata": {
        "id": "qkstzQhxPTp5",
        "colab_type": "code",
        "colab": {}
      },
      "source": [
        ""
      ],
      "execution_count": 0,
      "outputs": []
    },
    {
      "cell_type": "code",
      "metadata": {
        "id": "v8nl8BCFV2SD",
        "colab_type": "code",
        "colab": {}
      },
      "source": [
        "# Change the categorical variables to numerical using one hot encoding\n",
        "\n",
        "from sklearn.preprocessing import LabelEncoder\n",
        "Encoder = LabelEncoder()\n",
        "finance_clean['country']= Encoder.fit_transform(finance_clean['country'])\n",
        "finance_clean['Type of Location']= Encoder.fit_transform(finance_clean['Type of Location'])\n",
        "finance_clean['Cell Phone Access']= Encoder.fit_transform(finance_clean['Cell Phone Access'])\n",
        "finance_clean['household_size']= Encoder.fit_transform(finance_clean['household_size'])\n",
        "finance_clean['Respondent Age']= Encoder.fit_transform(finance_clean['Respondent Age'])\n",
        "finance_clean['gender_of_respondent']= Encoder.fit_transform(finance_clean['gender_of_respondent'])\n",
        "finance_clean['The relathip with head']= Encoder.fit_transform(finance_clean['The relathip with head'])\n",
        "finance_clean['marital_status']= Encoder.fit_transform(finance_clean['marital_status'])\n",
        "finance_clean['Level of Educuation']= Encoder.fit_transform(finance_clean['Level of Educuation'])\n",
        "finance_clean['Type of Job']= Encoder.fit_transform(finance_clean['Type of Job'])"
      ],
      "execution_count": 0,
      "outputs": []
    },
    {
      "cell_type": "code",
      "metadata": {
        "id": "XKol-z6nUyrM",
        "colab_type": "code",
        "colab": {}
      },
      "source": [
        "# Preprocessing - divide the dataset into a feature set and corresponding labels\n",
        "\n",
        "features = ['country',\t'Type of Location',\t'Cell Phone Access', 'household_size',\t'Respondent Age',\t'gender_of_respondent',\t'The relathip with head',\t'marital_status',\t'Level of Educuation',\t'Type of Job']\n",
        "x = finance_clean.loc[:, features].values\n",
        "\n",
        "# Separating out the label\n",
        "y = finance_clean.loc[:,['Has a Bank account']].values\n",
        "\n"
      ],
      "execution_count": 0,
      "outputs": []
    },
    {
      "cell_type": "code",
      "metadata": {
        "id": "wrlqVuJSWd4D",
        "colab_type": "code",
        "colab": {}
      },
      "source": [
        "# Split the dataset into the training set and test set \n",
        "\n",
        "from sklearn.model_selection import train_test_split\n",
        "\n",
        "x_train, x_test, y_train, y_test = train_test_split(x,y,test_size=0.2, random_state=0)\n"
      ],
      "execution_count": 0,
      "outputs": []
    },
    {
      "cell_type": "code",
      "metadata": {
        "id": "Ltwr0DlVWw2q",
        "colab_type": "code",
        "colab": {}
      },
      "source": [
        "# Normalization - perform standard scalar normalization to normalize \n",
        "\n",
        "from sklearn.preprocessing import StandardScaler\n",
        "\n",
        "sc = StandardScaler()\n",
        "x_train = sc.fit_transform(x_train)\n",
        "x_test = sc.transform(x_test)\n"
      ],
      "execution_count": 0,
      "outputs": []
    },
    {
      "cell_type": "code",
      "metadata": {
        "id": "J_4K0LReXmpG",
        "colab_type": "code",
        "colab": {}
      },
      "source": [
        "# Applying PCA\n",
        "\n",
        "from sklearn.decomposition import PCA\n",
        "pca = PCA()\n",
        "x_train = pca.fit_transform(x_train)\n",
        "x_test = pca.transform(x_test)\n"
      ],
      "execution_count": 0,
      "outputs": []
    },
    {
      "cell_type": "code",
      "metadata": {
        "id": "kMnzHqOUYumd",
        "colab_type": "code",
        "outputId": "14e313a8-75a7-435f-cc1d-1f8aed468586",
        "colab": {
          "base_uri": "https://localhost:8080/",
          "height": 51
        }
      },
      "source": [
        "# Explained variance ratio - this explains the variance caused by each of the PCs\n",
        "\n",
        "explained_variance = pca.explained_variance_ratio_\n",
        "explained_variance"
      ],
      "execution_count": 0,
      "outputs": [
        {
          "output_type": "execute_result",
          "data": {
            "text/plain": [
              "array([0.19392701, 0.15985426, 0.15503421, 0.10156453, 0.08260454,\n",
              "       0.08093911, 0.07173973, 0.0574807 , 0.05386191, 0.042994  ])"
            ]
          },
          "metadata": {
            "tags": []
          },
          "execution_count": 54
        }
      ]
    },
    {
      "cell_type": "code",
      "metadata": {
        "id": "-xLor3UcajzB",
        "colab_type": "code",
        "outputId": "24a1cf49-e841-4363-fd40-e03dd9dcfdf2",
        "colab": {
          "base_uri": "https://localhost:8080/",
          "height": 122
        }
      },
      "source": [
        "# Result with 1 PC\n",
        "\n",
        "pca = PCA(n_components=1)\n",
        "x_train = pca.fit_transform(x_train)\n",
        "x_test = pca.transform(x_test)\n",
        "\n",
        "from sklearn.ensemble import RandomForestClassifier\n",
        "\n",
        "classifier = RandomForestClassifier(max_depth=2, random_state=0)\n",
        "classifier.fit(x_train, y_train)\n",
        "\n",
        "# Predicting the Test set results\n",
        "y_pred = classifier.predict(x_test)\n",
        "\n",
        "from sklearn.metrics import confusion_matrix\n",
        "from sklearn.metrics import accuracy_score\n",
        "\n",
        "cm = confusion_matrix(y_test, y_pred)\n",
        "print(cm)\n",
        "print('Accuracy' , accuracy_score(y_test, y_pred))"
      ],
      "execution_count": 0,
      "outputs": [
        {
          "output_type": "stream",
          "text": [
            "/usr/local/lib/python3.6/dist-packages/ipykernel_launcher.py:9: DataConversionWarning: A column-vector y was passed when a 1d array was expected. Please change the shape of y to (n_samples,), for example using ravel().\n",
            "  if __name__ == '__main__':\n"
          ],
          "name": "stderr"
        },
        {
          "output_type": "stream",
          "text": [
            "[[3896    0]\n",
            " [ 649    0]]\n",
            "Accuracy 0.8572057205720572\n"
          ],
          "name": "stdout"
        }
      ]
    },
    {
      "cell_type": "code",
      "metadata": {
        "id": "dvUyK0BzbCPu",
        "colab_type": "code",
        "outputId": "2ca14f0f-6031-4126-8ccb-411fac8cc64d",
        "colab": {
          "base_uri": "https://localhost:8080/",
          "height": 122
        }
      },
      "source": [
        "# Result with the full feature set\n",
        "\n",
        "pca = PCA()\n",
        "x_train = pca.fit_transform(x_train)\n",
        "x_test = pca.transform(x_test)\n",
        "\n",
        "from sklearn.ensemble import RandomForestClassifier\n",
        "\n",
        "classifier = RandomForestClassifier(max_depth=2, random_state=0)\n",
        "classifier.fit(x_train, y_train)\n",
        "\n",
        "# Predicting the Test set results\n",
        "y_pred = classifier.predict(x_test)\n",
        "\n",
        "from sklearn.metrics import confusion_matrix\n",
        "from sklearn.metrics import accuracy_score\n",
        "\n",
        "cm = confusion_matrix(y_test, y_pred)\n",
        "print(cm)\n",
        "print('Accuracy' , accuracy_score(y_test, y_pred))"
      ],
      "execution_count": 0,
      "outputs": [
        {
          "output_type": "stream",
          "text": [
            "/usr/local/lib/python3.6/dist-packages/ipykernel_launcher.py:9: DataConversionWarning: A column-vector y was passed when a 1d array was expected. Please change the shape of y to (n_samples,), for example using ravel().\n",
            "  if __name__ == '__main__':\n"
          ],
          "name": "stderr"
        },
        {
          "output_type": "stream",
          "text": [
            "[[3896    0]\n",
            " [ 649    0]]\n",
            "Accuracy 0.8572057205720572\n"
          ],
          "name": "stdout"
        }
      ]
    },
    {
      "cell_type": "code",
      "metadata": {
        "id": "f_9E5uBXbnPI",
        "colab_type": "code",
        "colab": {}
      },
      "source": [
        "# From the above, we can see that the accuracy achieved with only one feature is the same as that achieved with the all the features. \n",
        "# Hence we can conclude that only one feature is the most important in predicting the likelihood of an individual having or using a bank account"
      ],
      "execution_count": 0,
      "outputs": []
    },
    {
      "cell_type": "markdown",
      "metadata": {
        "id": "aMZoyarkBgfW",
        "colab_type": "text"
      },
      "source": [
        "## 6. Implementing the Solution"
      ]
    },
    {
      "cell_type": "markdown",
      "metadata": {
        "id": "p2P1yBbrBse8",
        "colab_type": "text"
      },
      "source": [
        "## 7. Challenging the Solution"
      ]
    },
    {
      "cell_type": "markdown",
      "metadata": {
        "id": "lb5x3s5-ByNQ",
        "colab_type": "text"
      },
      "source": [
        "## 8. Follow up questions"
      ]
    }
  ]
}